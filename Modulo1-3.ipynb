{
  "nbformat": 4,
  "nbformat_minor": 0,
  "metadata": {
    "colab": {
      "name": "assignment01.ipynb",
      "provenance": [],
      "include_colab_link": true
    },
    "kernelspec": {
      "name": "python3",
      "display_name": "Python 3"
    },
    "language_info": {
      "name": "python"
    }
  },
  "cells": [
    {
      "cell_type": "markdown",
      "metadata": {
        "id": "view-in-github",
        "colab_type": "text"
      },
      "source": [
        "<a href=\"https://colab.research.google.com/github/PosgradoMNA/actividades-de-aprendizaje-A01793817/blob/main/Modulo1-3.ipynb\" target=\"_parent\"><img src=\"https://colab.research.google.com/assets/colab-badge.svg\" alt=\"Open In Colab\"/></a>"
      ]
    },
    {
      "cell_type": "markdown",
      "source": [
        "Nombre: Javier Antonio Rodríguez Rudas\n",
        "Matrícula: A01793817"
      ],
      "metadata": {
        "id": "DBa3C7yvCUDe"
      }
    },
    {
      "cell_type": "markdown",
      "source": [
        "MODULO 1"
      ],
      "metadata": {
        "id": "XF88MMvKjfPi"
      }
    },
    {
      "cell_type": "code",
      "execution_count": null,
      "metadata": {
        "id": "LzUSMM79NR9P",
        "outputId": "a1b9dcfa-72d1-4298-cf14-62d40cd2b2ef",
        "colab": {
          "base_uri": "https://localhost:8080/"
        }
      },
      "outputs": [
        {
          "output_type": "stream",
          "name": "stdout",
          "text": [
            "Hello\n",
            "World!\n"
          ]
        }
      ],
      "source": [
        "print(\"Hello\\nWorld!\")"
      ]
    },
    {
      "cell_type": "code",
      "source": [
        "#print('Hello World!')"
      ],
      "metadata": {
        "id": "mxM_WppZPMFx"
      },
      "execution_count": null,
      "outputs": []
    },
    {
      "cell_type": "markdown",
      "source": [
        "Find the type of the following using the type command: \"Hello World\""
      ],
      "metadata": {
        "id": "dEj-xaiAzZOj"
      }
    },
    {
      "cell_type": "code",
      "source": [
        "type(\"Hello World\")"
      ],
      "metadata": {
        "colab": {
          "base_uri": "https://localhost:8080/"
        },
        "id": "m-GUPbA-zgfL",
        "outputId": "f222735b-33bf-4dbe-96b3-7dc7a4a1a4d6"
      },
      "execution_count": null,
      "outputs": [
        {
          "output_type": "execute_result",
          "data": {
            "text/plain": [
              "str"
            ]
          },
          "metadata": {},
          "execution_count": 7
        }
      ]
    },
    {
      "cell_type": "markdown",
      "source": [
        "Find the type of the following using the <code>type</code> command: \"1.1\""
      ],
      "metadata": {
        "id": "QoDbjwMIzoVi"
      }
    },
    {
      "cell_type": "code",
      "source": [
        "type(\"1.1\")"
      ],
      "metadata": {
        "colab": {
          "base_uri": "https://localhost:8080/"
        },
        "id": "C5BYv2oMzzPu",
        "outputId": "7a85ecc8-f537-488d-8ce4-8f3d88953905"
      },
      "execution_count": null,
      "outputs": [
        {
          "output_type": "execute_result",
          "data": {
            "text/plain": [
              "str"
            ]
          },
          "metadata": {},
          "execution_count": 8
        }
      ]
    },
    {
      "cell_type": "markdown",
      "source": [
        "Cast the following to an int and then to a bool: \"1\""
      ],
      "metadata": {
        "id": "VKzOzxtG0XYx"
      }
    },
    {
      "cell_type": "code",
      "source": [
        "bool(int(\"1\"))"
      ],
      "metadata": {
        "colab": {
          "base_uri": "https://localhost:8080/"
        },
        "id": "Ag7uS9iu0fDs",
        "outputId": "c8bdb514-33d3-4017-9955-d16c2ceadb49"
      },
      "execution_count": null,
      "outputs": [
        {
          "output_type": "execute_result",
          "data": {
            "text/plain": [
              "True"
            ]
          },
          "metadata": {},
          "execution_count": 10
        }
      ]
    },
    {
      "cell_type": "markdown",
      "source": [
        "¿Cuál es el tipo de lo siguiente: int(1.0)?"
      ],
      "metadata": {
        "id": "fRRmSP1Yngrp"
      }
    },
    {
      "cell_type": "code",
      "source": [
        "int(1.0)"
      ],
      "metadata": {
        "colab": {
          "base_uri": "https://localhost:8080/"
        },
        "id": "CVkU3MGKnlp0",
        "outputId": "1fb58039-3183-49ac-ab8f-65cee772c756"
      },
      "execution_count": null,
      "outputs": [
        {
          "output_type": "execute_result",
          "data": {
            "text/plain": [
              "1"
            ]
          },
          "metadata": {},
          "execution_count": 4
        }
      ]
    },
    {
      "cell_type": "markdown",
      "source": [
        "resp. Int"
      ],
      "metadata": {
        "id": "w2XqwsZBnqo1"
      }
    },
    {
      "cell_type": "markdown",
      "source": [
        "¿Introduzca el código para convertir el número 1 en un valor booleano?"
      ],
      "metadata": {
        "id": "-Yv6NYvpoBRh"
      }
    },
    {
      "cell_type": "code",
      "source": [
        "bool(1)"
      ],
      "metadata": {
        "colab": {
          "base_uri": "https://localhost:8080/"
        },
        "id": "NDlnABdUoDEx",
        "outputId": "dd63ef20-5886-4f21-e2fb-4f5a62b604fe"
      },
      "execution_count": null,
      "outputs": [
        {
          "output_type": "execute_result",
          "data": {
            "text/plain": [
              "True"
            ]
          },
          "metadata": {},
          "execution_count": 5
        }
      ]
    },
    {
      "cell_type": "markdown",
      "source": [
        "Say \"Hello\" to the world in Python"
      ],
      "metadata": {
        "id": "hud-5zrm13Cl"
      }
    },
    {
      "cell_type": "code",
      "source": [
        "print(\"Hello world\")"
      ],
      "metadata": {
        "colab": {
          "base_uri": "https://localhost:8080/"
        },
        "id": "sEd6D6r114fT",
        "outputId": "2275f268-9876-4fd4-e1d7-2d77f1deb6af"
      },
      "execution_count": null,
      "outputs": [
        {
          "output_type": "stream",
          "name": "stdout",
          "text": [
            "Hello world\n"
          ]
        }
      ]
    },
    {
      "cell_type": "markdown",
      "source": [
        "What version of Python are we using?"
      ],
      "metadata": {
        "id": "wy3BQpwy1_EO"
      }
    },
    {
      "cell_type": "code",
      "source": [
        "import sys\n",
        "print(sys.version)"
      ],
      "metadata": {
        "colab": {
          "base_uri": "https://localhost:8080/"
        },
        "id": "Ex3Bd_ov2EFn",
        "outputId": "155c018e-0bd5-4798-9da0-45f522925951"
      },
      "execution_count": null,
      "outputs": [
        {
          "output_type": "stream",
          "name": "stdout",
          "text": [
            "3.7.14 (default, Sep  8 2022, 00:06:44) \n",
            "[GCC 7.5.0]\n"
          ]
        }
      ]
    },
    {
      "cell_type": "markdown",
      "source": [
        "Writing comments in Python"
      ],
      "metadata": {
        "id": "W8nI0TmFHGn1"
      }
    },
    {
      "cell_type": "code",
      "source": [
        "# Practice on writing comments\n",
        "\n",
        "print('Hello, Python!') # This line prints a string\n",
        "# print('Hi')"
      ],
      "metadata": {
        "colab": {
          "base_uri": "https://localhost:8080/"
        },
        "id": "bofQ_bkBHHmN",
        "outputId": "0dd751b1-531c-4f8a-b820-68d4f02112f4"
      },
      "execution_count": null,
      "outputs": [
        {
          "output_type": "stream",
          "name": "stdout",
          "text": [
            "Hello, Python!\n"
          ]
        }
      ]
    },
    {
      "cell_type": "markdown",
      "source": [
        "Errors in Python"
      ],
      "metadata": {
        "id": "B3Zdm1CmM41P"
      }
    },
    {
      "cell_type": "code",
      "source": [
        "# Print string as error message\n",
        "\n",
        "frint(\"Hello, Python!\")"
      ],
      "metadata": {
        "colab": {
          "base_uri": "https://localhost:8080/",
          "height": 200
        },
        "id": "x-rFLoRKM85e",
        "outputId": "a2ed4972-b208-4a9e-9701-b9e234ec89e0"
      },
      "execution_count": null,
      "outputs": [
        {
          "output_type": "error",
          "ename": "NameError",
          "evalue": "ignored",
          "traceback": [
            "\u001b[0;31m---------------------------------------------------------------------------\u001b[0m",
            "\u001b[0;31mNameError\u001b[0m                                 Traceback (most recent call last)",
            "\u001b[0;32m<ipython-input-14-313a1769a8a5>\u001b[0m in \u001b[0;36m<module>\u001b[0;34m\u001b[0m\n\u001b[1;32m      1\u001b[0m \u001b[0;31m# Print string as error message\u001b[0m\u001b[0;34m\u001b[0m\u001b[0;34m\u001b[0m\u001b[0;34m\u001b[0m\u001b[0m\n\u001b[1;32m      2\u001b[0m \u001b[0;34m\u001b[0m\u001b[0m\n\u001b[0;32m----> 3\u001b[0;31m \u001b[0mfrint\u001b[0m\u001b[0;34m(\u001b[0m\u001b[0;34m\"Hello, Python!\"\u001b[0m\u001b[0;34m)\u001b[0m\u001b[0;34m\u001b[0m\u001b[0;34m\u001b[0m\u001b[0m\n\u001b[0m",
            "\u001b[0;31mNameError\u001b[0m: name 'frint' is not defined"
          ]
        }
      ]
    },
    {
      "cell_type": "code",
      "source": [
        "# Try to see built-in error message\n",
        "\n",
        "print(\"Hello, Python!)"
      ],
      "metadata": {
        "colab": {
          "base_uri": "https://localhost:8080/",
          "height": 130
        },
        "id": "pSx0WQSkNA1E",
        "outputId": "6c668036-6ef5-410a-8075-6b84f4a21984"
      },
      "execution_count": null,
      "outputs": [
        {
          "output_type": "error",
          "ename": "SyntaxError",
          "evalue": "ignored",
          "traceback": [
            "\u001b[0;36m  File \u001b[0;32m\"<ipython-input-15-f0b5a635e1a2>\"\u001b[0;36m, line \u001b[0;32m3\u001b[0m\n\u001b[0;31m    print(\"Hello, Python!)\u001b[0m\n\u001b[0m                          ^\u001b[0m\n\u001b[0;31mSyntaxError\u001b[0m\u001b[0;31m:\u001b[0m EOL while scanning string literal\n"
          ]
        }
      ]
    },
    {
      "cell_type": "code",
      "source": [
        "# Print string and error to see the running order\n",
        "\n",
        "print(\"This will be printed\")\n",
        "frint(\"This will cause an error\")\n",
        "print(\"This will NOT be printed\")"
      ],
      "metadata": {
        "colab": {
          "base_uri": "https://localhost:8080/",
          "height": 235
        },
        "id": "ZnUGe32HNK_D",
        "outputId": "1a724a49-1fee-4f77-e67f-f152e65d8ee8"
      },
      "execution_count": null,
      "outputs": [
        {
          "output_type": "stream",
          "name": "stdout",
          "text": [
            "This will be printed\n"
          ]
        },
        {
          "output_type": "error",
          "ename": "NameError",
          "evalue": "ignored",
          "traceback": [
            "\u001b[0;31m---------------------------------------------------------------------------\u001b[0m",
            "\u001b[0;31mNameError\u001b[0m                                 Traceback (most recent call last)",
            "\u001b[0;32m<ipython-input-16-af59af1b345d>\u001b[0m in \u001b[0;36m<module>\u001b[0;34m\u001b[0m\n\u001b[1;32m      2\u001b[0m \u001b[0;34m\u001b[0m\u001b[0m\n\u001b[1;32m      3\u001b[0m \u001b[0mprint\u001b[0m\u001b[0;34m(\u001b[0m\u001b[0;34m\"This will be printed\"\u001b[0m\u001b[0;34m)\u001b[0m\u001b[0;34m\u001b[0m\u001b[0;34m\u001b[0m\u001b[0m\n\u001b[0;32m----> 4\u001b[0;31m \u001b[0mfrint\u001b[0m\u001b[0;34m(\u001b[0m\u001b[0;34m\"This will cause an error\"\u001b[0m\u001b[0;34m)\u001b[0m\u001b[0;34m\u001b[0m\u001b[0;34m\u001b[0m\u001b[0m\n\u001b[0m\u001b[1;32m      5\u001b[0m \u001b[0mprint\u001b[0m\u001b[0;34m(\u001b[0m\u001b[0;34m\"This will NOT be printed\"\u001b[0m\u001b[0;34m)\u001b[0m\u001b[0;34m\u001b[0m\u001b[0;34m\u001b[0m\u001b[0m\n",
            "\u001b[0;31mNameError\u001b[0m: name 'frint' is not defined"
          ]
        }
      ]
    },
    {
      "cell_type": "markdown",
      "source": [
        "Exercise: Your First Program"
      ],
      "metadata": {
        "id": "FwtW8Gr6NUrY"
      }
    },
    {
      "cell_type": "code",
      "source": [
        "print(\"Hello, world!\")"
      ],
      "metadata": {
        "colab": {
          "base_uri": "https://localhost:8080/"
        },
        "id": "yGPGtJkvNVwa",
        "outputId": "00c99b68-a9b0-40fc-e190-c7088796161c"
      },
      "execution_count": null,
      "outputs": [
        {
          "output_type": "stream",
          "name": "stdout",
          "text": [
            "Hello, world!\n"
          ]
        }
      ]
    },
    {
      "cell_type": "code",
      "source": [
        "print(\"Hello, world!\") # Print the traditional hello world"
      ],
      "metadata": {
        "colab": {
          "base_uri": "https://localhost:8080/"
        },
        "id": "NqmCRorJNgaV",
        "outputId": "8c2305be-93e6-4f9b-9738-8659edab3e2a"
      },
      "execution_count": null,
      "outputs": [
        {
          "output_type": "stream",
          "name": "stdout",
          "text": [
            "Hello, world!\n"
          ]
        }
      ]
    },
    {
      "cell_type": "markdown",
      "source": [
        "# Write your code below. Don't forget to press Shift+Enter to execute the cell\n"
      ],
      "metadata": {
        "id": "5Fmb2m-WNq-O"
      }
    },
    {
      "cell_type": "code",
      "source": [
        "type(12.0)"
      ],
      "metadata": {
        "colab": {
          "base_uri": "https://localhost:8080/"
        },
        "id": "_-9LC20KNu7n",
        "outputId": "9daf0f38-b326-444f-dfb2-0a3f65763261"
      },
      "execution_count": null,
      "outputs": [
        {
          "output_type": "execute_result",
          "data": {
            "text/plain": [
              "float"
            ]
          },
          "metadata": {},
          "execution_count": 19
        }
      ]
    },
    {
      "cell_type": "markdown",
      "source": [
        "What is the data type of the result of: 6 / 2?"
      ],
      "metadata": {
        "id": "KMzr7JnGN9do"
      }
    },
    {
      "cell_type": "code",
      "source": [
        "type(6/2) # float"
      ],
      "metadata": {
        "colab": {
          "base_uri": "https://localhost:8080/"
        },
        "id": "s__cQc1VOBeG",
        "outputId": "07fb501b-07ac-4b24-96b9-150575421190"
      },
      "execution_count": null,
      "outputs": [
        {
          "output_type": "execute_result",
          "data": {
            "text/plain": [
              "float"
            ]
          },
          "metadata": {},
          "execution_count": 20
        }
      ]
    },
    {
      "cell_type": "markdown",
      "source": [
        "What is the type of the result of: 6 // 2? (Note the double slash //.)"
      ],
      "metadata": {
        "id": "8u_5k7yvOHVZ"
      }
    },
    {
      "cell_type": "code",
      "source": [
        "type(6//2) # int, as the double slashes stand for integer division "
      ],
      "metadata": {
        "colab": {
          "base_uri": "https://localhost:8080/"
        },
        "id": "DuGYNWGBOJZy",
        "outputId": "c4ad40e9-ab3f-40b8-8698-c41db994beeb"
      },
      "execution_count": null,
      "outputs": [
        {
          "output_type": "execute_result",
          "data": {
            "text/plain": [
              "int"
            ]
          },
          "metadata": {},
          "execution_count": 21
        }
      ]
    },
    {
      "cell_type": "markdown",
      "source": [
        "Let's write an expression that calculates how many hours there are in 160 minutes:"
      ],
      "metadata": {
        "id": "40Sk4kbaOS-t"
      }
    },
    {
      "cell_type": "code",
      "source": [
        "160/60 \n",
        "\n",
        "# Or \n",
        "\n",
        "160//60"
      ],
      "metadata": {
        "colab": {
          "base_uri": "https://localhost:8080/"
        },
        "id": "dyg7cdRoOUAc",
        "outputId": "8fd0f424-91fc-4f97-be60-6e32da19d784"
      },
      "execution_count": null,
      "outputs": [
        {
          "output_type": "execute_result",
          "data": {
            "text/plain": [
              "2"
            ]
          },
          "metadata": {},
          "execution_count": 22
        }
      ]
    },
    {
      "cell_type": "markdown",
      "source": [
        "What is the value of x where x = 3 + 2 * 2"
      ],
      "metadata": {
        "id": "7HAq_XX2Ofut"
      }
    },
    {
      "cell_type": "code",
      "source": [
        "7"
      ],
      "metadata": {
        "colab": {
          "base_uri": "https://localhost:8080/"
        },
        "id": "m64zfAl6OgqA",
        "outputId": "019e24b7-f95f-4936-8d7e-9c20680c0b87"
      },
      "execution_count": null,
      "outputs": [
        {
          "output_type": "execute_result",
          "data": {
            "text/plain": [
              "7"
            ]
          },
          "metadata": {},
          "execution_count": 23
        }
      ]
    },
    {
      "cell_type": "markdown",
      "source": [
        "What is the value of y where y = (3 + 2) * 2?"
      ],
      "metadata": {
        "id": "vHdaG__SOwnE"
      }
    },
    {
      "cell_type": "code",
      "source": [
        "10"
      ],
      "metadata": {
        "colab": {
          "base_uri": "https://localhost:8080/"
        },
        "id": "6PDU89uJOyw2",
        "outputId": "de4b5690-a012-4636-c04f-a93262117ecf"
      },
      "execution_count": null,
      "outputs": [
        {
          "output_type": "execute_result",
          "data": {
            "text/plain": [
              "10"
            ]
          },
          "metadata": {},
          "execution_count": 30
        }
      ]
    },
    {
      "cell_type": "markdown",
      "source": [
        "What is the value of z where z = x + y?"
      ],
      "metadata": {
        "id": "WYWYLvv9Pa1f"
      }
    },
    {
      "cell_type": "code",
      "source": [
        "17"
      ],
      "metadata": {
        "colab": {
          "base_uri": "https://localhost:8080/"
        },
        "id": "9QeZx36GPb2V",
        "outputId": "293b6399-5245-4539-c27f-9748b22a0a6f"
      },
      "execution_count": null,
      "outputs": [
        {
          "output_type": "execute_result",
          "data": {
            "text/plain": [
              "17"
            ]
          },
          "metadata": {},
          "execution_count": 31
        }
      ]
    },
    {
      "cell_type": "markdown",
      "source": [
        "PREGUNTA 1\n",
        "1 punto posible (no calificable)\n",
        "Considere la siguiente cadena:\n",
        "\n",
        "Numbers = \"0123456\"\n",
        "¿Cómo obtendrías los elementos pares?"
      ],
      "metadata": {
        "id": "acp1QaTMQ20H"
      }
    },
    {
      "cell_type": "code",
      "source": [
        "Numbers = \"0123456\"\n",
        "Numbers[::2]"
      ],
      "metadata": {
        "colab": {
          "base_uri": "https://localhost:8080/",
          "height": 35
        },
        "id": "IIHhP0HKQ39Z",
        "outputId": "0d85f361-ffb9-4d7f-b01d-ccfae818be8b"
      },
      "execution_count": null,
      "outputs": [
        {
          "output_type": "execute_result",
          "data": {
            "text/plain": [
              "'0246'"
            ],
            "application/vnd.google.colaboratory.intrinsic+json": {
              "type": "string"
            }
          },
          "metadata": {},
          "execution_count": 39
        }
      ]
    },
    {
      "cell_type": "markdown",
      "source": [
        "PREGUNTA 2\n",
        "1 punto posible (no calificable)\n",
        "¿Cuál es el resultado de la siguiente línea de código:\n",
        "\n",
        "\"0123456\".find('1')"
      ],
      "metadata": {
        "id": "0_tvY1KWS89p"
      }
    },
    {
      "cell_type": "code",
      "source": [
        "\"0123456\".find('1')"
      ],
      "metadata": {
        "colab": {
          "base_uri": "https://localhost:8080/"
        },
        "id": "rexGzYmxS-MY",
        "outputId": "35563089-8ea5-4c5d-e90d-063a78953dfc"
      },
      "execution_count": null,
      "outputs": [
        {
          "output_type": "execute_result",
          "data": {
            "text/plain": [
              "1"
            ]
          },
          "metadata": {},
          "execution_count": 42
        }
      ]
    },
    {
      "cell_type": "markdown",
      "source": [
        "Use slicing to find the first four elements of the following string:"
      ],
      "metadata": {
        "id": "1bhGXnHBTX1E"
      }
    },
    {
      "cell_type": "code",
      "source": [
        "Letters=\"ABCDEFGHIJK\"\n",
        "Letters[0:4]"
      ],
      "metadata": {
        "colab": {
          "base_uri": "https://localhost:8080/",
          "height": 35
        },
        "id": "n-YTd2VgTZI2",
        "outputId": "361ab178-b65e-4979-8d09-85ff47c81c22"
      },
      "execution_count": null,
      "outputs": [
        {
          "output_type": "execute_result",
          "data": {
            "text/plain": [
              "'ABCD'"
            ],
            "application/vnd.google.colaboratory.intrinsic+json": {
              "type": "string"
            }
          },
          "metadata": {},
          "execution_count": 43
        }
      ]
    },
    {
      "cell_type": "markdown",
      "source": [
        "Use a stride value of 2 on the following string :"
      ],
      "metadata": {
        "id": "ytgmRrDMThKN"
      }
    },
    {
      "cell_type": "code",
      "source": [
        "Good=\"GsoAo+d\"\n",
        "Good[::2]"
      ],
      "metadata": {
        "colab": {
          "base_uri": "https://localhost:8080/",
          "height": 35
        },
        "id": "9xZbKdZETmnR",
        "outputId": "6047dd79-dc22-452f-92a1-df458b55f88d"
      },
      "execution_count": null,
      "outputs": [
        {
          "output_type": "execute_result",
          "data": {
            "text/plain": [
              "'Good'"
            ],
            "application/vnd.google.colaboratory.intrinsic+json": {
              "type": "string"
            }
          },
          "metadata": {},
          "execution_count": 44
        }
      ]
    },
    {
      "cell_type": "markdown",
      "source": [
        "Convert the following string to uppercase using the method upper():"
      ],
      "metadata": {
        "id": "DLWUP5gnT_lD"
      }
    },
    {
      "cell_type": "code",
      "source": [
        "\"uppercase\"\n",
        "\"uppercase\".upper()"
      ],
      "metadata": {
        "colab": {
          "base_uri": "https://localhost:8080/",
          "height": 35
        },
        "id": "xyNCX2JSUAob",
        "outputId": "f20f8485-c566-48b0-f914-a7f422bc82ea"
      },
      "execution_count": null,
      "outputs": [
        {
          "output_type": "execute_result",
          "data": {
            "text/plain": [
              "'UPPERCASE'"
            ],
            "application/vnd.google.colaboratory.intrinsic+json": {
              "type": "string"
            }
          },
          "metadata": {},
          "execution_count": 45
        }
      ]
    },
    {
      "cell_type": "markdown",
      "source": [
        "What is the value of the variable a after the following code is executed?\n",
        "a = \"1\""
      ],
      "metadata": {
        "id": "Mvg-BJuQUg2E"
      }
    },
    {
      "cell_type": "code",
      "source": [
        "\"1\"\n"
      ],
      "metadata": {
        "colab": {
          "base_uri": "https://localhost:8080/",
          "height": 35
        },
        "id": "W74r8PcPUh-X",
        "outputId": "fd093181-89c8-4ead-e566-930fc028e7f0"
      },
      "execution_count": null,
      "outputs": [
        {
          "output_type": "execute_result",
          "data": {
            "text/plain": [
              "'1'"
            ],
            "application/vnd.google.colaboratory.intrinsic+json": {
              "type": "string"
            }
          },
          "metadata": {},
          "execution_count": 49
        }
      ]
    },
    {
      "cell_type": "markdown",
      "source": [
        "What is the value of the variable b after the following code is executed?\n",
        "b = \"2\""
      ],
      "metadata": {
        "id": "l8m227g0VGm2"
      }
    },
    {
      "cell_type": "code",
      "source": [
        "\"2\""
      ],
      "metadata": {
        "colab": {
          "base_uri": "https://localhost:8080/",
          "height": 35
        },
        "id": "H-PTgFLaVKnO",
        "outputId": "7b4906ed-cc34-459f-d5f3-57fedc024a0a"
      },
      "execution_count": null,
      "outputs": [
        {
          "output_type": "execute_result",
          "data": {
            "text/plain": [
              "'2'"
            ],
            "application/vnd.google.colaboratory.intrinsic+json": {
              "type": "string"
            }
          },
          "metadata": {},
          "execution_count": 50
        }
      ]
    },
    {
      "cell_type": "markdown",
      "source": [
        "What is the value of the variable c after the following code is executed?"
      ],
      "metadata": {
        "id": "QDoOq6jeVR7t"
      }
    },
    {
      "cell_type": "code",
      "source": [
        "\"12\""
      ],
      "metadata": {
        "colab": {
          "base_uri": "https://localhost:8080/",
          "height": 35
        },
        "id": "S8VxX6hXVS2g",
        "outputId": "b9629f8e-bd3a-4d80-cd33-46a5a897ecac"
      },
      "execution_count": null,
      "outputs": [
        {
          "output_type": "execute_result",
          "data": {
            "text/plain": [
              "'12'"
            ],
            "application/vnd.google.colaboratory.intrinsic+json": {
              "type": "string"
            }
          },
          "metadata": {},
          "execution_count": 51
        }
      ]
    },
    {
      "cell_type": "markdown",
      "source": [
        "Consider the variable d use slicing to print out the first three elements:\n",
        "d = \"ABCDEFG\""
      ],
      "metadata": {
        "id": "JTSq9rNaVg8p"
      }
    },
    {
      "cell_type": "code",
      "source": [
        "d=\"ABCDEFG\"\n",
        "print(d[0:3])"
      ],
      "metadata": {
        "colab": {
          "base_uri": "https://localhost:8080/"
        },
        "id": "sSN9LlDLVlN1",
        "outputId": "0596dfe4-de1b-4653-a77e-746ec5adcd0c"
      },
      "execution_count": null,
      "outputs": [
        {
          "output_type": "stream",
          "name": "stdout",
          "text": [
            "ABC\n"
          ]
        }
      ]
    },
    {
      "cell_type": "markdown",
      "source": [
        "Use a stride value of 2 to print out every second character of the string e:\n",
        "e = 'clocrkr1e1c1t'"
      ],
      "metadata": {
        "id": "vQYURpTPWD6x"
      }
    },
    {
      "cell_type": "code",
      "source": [
        "e = 'clocrkr1e1c1t'\n",
        "print(e[::2])"
      ],
      "metadata": {
        "colab": {
          "base_uri": "https://localhost:8080/"
        },
        "id": "yi_ohbX3WJYq",
        "outputId": "26c82bf7-3ca1-485e-a2f3-70b130cdcb86"
      },
      "execution_count": null,
      "outputs": [
        {
          "output_type": "stream",
          "name": "stdout",
          "text": [
            "correct\n"
          ]
        }
      ]
    },
    {
      "cell_type": "markdown",
      "source": [
        "Print out a backslash:"
      ],
      "metadata": {
        "id": "z5OnDafLWi_f"
      }
    },
    {
      "cell_type": "code",
      "source": [
        "print(\"\\\\\\\\\\\\\")\n",
        "print(r\"\\ \")"
      ],
      "metadata": {
        "colab": {
          "base_uri": "https://localhost:8080/"
        },
        "id": "fQvunZuiWkEF",
        "outputId": "8a677784-a371-4d67-e051-4dd61db2700f"
      },
      "execution_count": null,
      "outputs": [
        {
          "output_type": "stream",
          "name": "stdout",
          "text": [
            "\\\\\\\n",
            "\\ \n"
          ]
        }
      ]
    },
    {
      "cell_type": "markdown",
      "source": [
        "Convert the variable f to uppercase:\n",
        "f = \"You are wrong\""
      ],
      "metadata": {
        "id": "xmT2B8wDWylh"
      }
    },
    {
      "cell_type": "code",
      "source": [
        " f = \"You are wrong\"\n",
        "print(f.upper())"
      ],
      "metadata": {
        "colab": {
          "base_uri": "https://localhost:8080/"
        },
        "id": "cxaXt7RfW2hH",
        "outputId": "9896d512-4c91-4c65-b36b-a8148dca6722"
      },
      "execution_count": null,
      "outputs": [
        {
          "output_type": "stream",
          "name": "stdout",
          "text": [
            "YOU ARE WRONG\n"
          ]
        }
      ]
    },
    {
      "cell_type": "markdown",
      "source": [
        "Consider the variable g, and find the first index of the sub-string snow:\n",
        "g = \"Mary had a little lamb Little lamb, little lamb Mary had a little lamb \\\n",
        "Its fleece was white as snow And everywhere that Mary went Mary went, Mary went \\\n",
        "Everywhere that Mary went The lamb was sure to go\""
      ],
      "metadata": {
        "id": "VzTKnVATXUbj"
      }
    },
    {
      "cell_type": "code",
      "source": [
        "g = \"Mary had a little lamb Little lamb, little lamb Mary had a little lamb Its fleece was white as snow And everywhere that Mary went Mary went, Mary went Everywhere that Mary went The lamb was sure to go\"\n",
        "print(g.find(\"snow\"))"
      ],
      "metadata": {
        "colab": {
          "base_uri": "https://localhost:8080/"
        },
        "id": "VI9gEEsRXY9n",
        "outputId": "6aa11a64-81f6-4a9a-d395-a7f2bc24f1e6"
      },
      "execution_count": null,
      "outputs": [
        {
          "output_type": "stream",
          "name": "stdout",
          "text": [
            "95\n"
          ]
        }
      ]
    },
    {
      "cell_type": "markdown",
      "source": [
        "In the variable g, replace the sub-string Mary with Bob:\n",
        "g = \"Mary had a little lamb Little lamb, little lamb Mary had a little lamb Its fleece was white as snow And everywhere that Mary went Mary went, Mary went Everywhere that Mary went The lamb was sure to go\""
      ],
      "metadata": {
        "id": "FsrBN5rPX8ob"
      }
    },
    {
      "cell_type": "code",
      "source": [
        "g = \"Mary had a little lamb Little lamb, little lamb Mary had a little lamb Its fleece was white as snow And everywhere that Mary went Mary went, Mary went Everywhere that Mary went The lamb was sure to go\"\n",
        "print(g.replace(\"Mary\",\"Bob\"))"
      ],
      "metadata": {
        "colab": {
          "base_uri": "https://localhost:8080/"
        },
        "id": "0AsybkUqYIn-",
        "outputId": "2a3f5e8d-bb37-4327-89ef-f9470938477f"
      },
      "execution_count": null,
      "outputs": [
        {
          "output_type": "stream",
          "name": "stdout",
          "text": [
            "Bob had a little lamb Little lamb, little lamb Bob had a little lamb Its fleece was white as snow And everywhere that Bob went Bob went, Bob went Everywhere that Bob went The lamb was sure to go\n"
          ]
        }
      ]
    },
    {
      "cell_type": "markdown",
      "source": [
        "Pregunta de revisión 1\n",
        "\n",
        "¿Cuál es el resultado de la siguiente operación en Python:\n",
        "\n",
        "3 + 2 * 2"
      ],
      "metadata": {
        "id": "w5Rs7kV3YvR0"
      }
    },
    {
      "cell_type": "code",
      "source": [
        "7"
      ],
      "metadata": {
        "colab": {
          "base_uri": "https://localhost:8080/"
        },
        "id": "v2JEx3ilYw_w",
        "outputId": "54dad20f-925e-4f55-d547-28245bf244bc"
      },
      "execution_count": null,
      "outputs": [
        {
          "output_type": "execute_result",
          "data": {
            "text/plain": [
              "7"
            ]
          },
          "metadata": {},
          "execution_count": 66
        }
      ]
    },
    {
      "cell_type": "markdown",
      "source": [
        "Pregunta de revisión 2\n",
        "\n",
        "En Python, si ejecutara name = 'Lizz', ¿cuál sería el resultado de print(name[0:2])?"
      ],
      "metadata": {
        "id": "op9hbUX_Y70u"
      }
    },
    {
      "cell_type": "code",
      "source": [
        "\"Li\""
      ],
      "metadata": {
        "colab": {
          "base_uri": "https://localhost:8080/",
          "height": 35
        },
        "id": "iKaJGBwYY8z4",
        "outputId": "286d0aa1-2540-4cc2-9bb0-ffe79527c88a"
      },
      "execution_count": null,
      "outputs": [
        {
          "output_type": "execute_result",
          "data": {
            "text/plain": [
              "'Li'"
            ],
            "application/vnd.google.colaboratory.intrinsic+json": {
              "type": "string"
            }
          },
          "metadata": {},
          "execution_count": 69
        }
      ]
    },
    {
      "cell_type": "markdown",
      "source": [
        "Pregunta de revisión 3\n",
        "\n",
        "En Python, si ejecutaras var = '01234567', ¿cuál sería el resultado de print(var[::2])?"
      ],
      "metadata": {
        "id": "OLSseNi0ZZTJ"
      }
    },
    {
      "cell_type": "code",
      "source": [
        "var = '01234567'\n",
        "print(var[::2])"
      ],
      "metadata": {
        "colab": {
          "base_uri": "https://localhost:8080/"
        },
        "id": "QhkVK4v4ZbfB",
        "outputId": "5aca30d6-e59e-41f3-da04-16d0f23d3ce7"
      },
      "execution_count": null,
      "outputs": [
        {
          "output_type": "stream",
          "name": "stdout",
          "text": [
            "0246\n"
          ]
        }
      ]
    },
    {
      "cell_type": "markdown",
      "source": [
        "Pregunta de revisión 4\n",
        "\n",
        "En Python, ¿cuál es el resultado de la siguiente operación '1'+'2'?"
      ],
      "metadata": {
        "id": "k4wcvJbca2ku"
      }
    },
    {
      "cell_type": "code",
      "source": [
        "\"12\""
      ],
      "metadata": {
        "colab": {
          "base_uri": "https://localhost:8080/",
          "height": 35
        },
        "id": "O20Pf22la4cg",
        "outputId": "c6afb95b-83f2-4045-e60e-b885d6c68f47"
      },
      "execution_count": null,
      "outputs": [
        {
          "output_type": "execute_result",
          "data": {
            "text/plain": [
              "'12'"
            ],
            "application/vnd.google.colaboratory.intrinsic+json": {
              "type": "string"
            }
          },
          "metadata": {},
          "execution_count": 80
        }
      ]
    },
    {
      "cell_type": "markdown",
      "source": [
        "Pregunta de revisión 5\n",
        "\n",
        "Dado myvar = 'hello', ¿cómo convertirías myvara mayúsculas?"
      ],
      "metadata": {
        "id": "ILrsF93AbC7F"
      }
    },
    {
      "cell_type": "code",
      "source": [
        "myvar = 'hello'\n",
        "print(myvar.upper())"
      ],
      "metadata": {
        "colab": {
          "base_uri": "https://localhost:8080/"
        },
        "id": "ofIJTCFFbFXz",
        "outputId": "7b36f06a-de85-4a01-b989-57e876cfeb76"
      },
      "execution_count": null,
      "outputs": [
        {
          "output_type": "stream",
          "name": "stdout",
          "text": [
            "HELLO\n"
          ]
        }
      ]
    },
    {
      "cell_type": "markdown",
      "source": [
        "MODULO 2"
      ],
      "metadata": {
        "id": "iQvXgUFlOYjh"
      }
    },
    {
      "cell_type": "markdown",
      "source": [
        "PREGUNTA 1\n",
        "\n",
        "¿Cómo se accede al último elemento de la siguiente tupla: A=(0,1,2,3)? Seleccione todas las posibles respuestas correctas."
      ],
      "metadata": {
        "id": "qjUJk-FBO9Yf"
      }
    },
    {
      "cell_type": "code",
      "source": [
        "A=(0,1,2,3)\n",
        "print(A[-1])"
      ],
      "metadata": {
        "colab": {
          "base_uri": "https://localhost:8080/"
        },
        "id": "HJCcnOH6Px0w",
        "outputId": "6df9a1a1-8d6a-4090-9ebc-feef43c7fde7"
      },
      "execution_count": null,
      "outputs": [
        {
          "output_type": "stream",
          "name": "stdout",
          "text": [
            "3\n"
          ]
        }
      ]
    },
    {
      "cell_type": "markdown",
      "source": [
        "PREGUNTA 2\n",
        "\n",
        "Considere la lista: B=[\"a\",\"b\",\"c\"].\n",
        "\n",
        "¿Cuál es el resultado de lo siguiente B[1:]?"
      ],
      "metadata": {
        "id": "tVCPigjZQgmX"
      }
    },
    {
      "cell_type": "code",
      "source": [
        "B=[\"a\",\"b\",\"c\"]\n",
        "print(B[1:])"
      ],
      "metadata": {
        "colab": {
          "base_uri": "https://localhost:8080/"
        },
        "id": "B26tfmGkRemq",
        "outputId": "2e34f39a-be02-42c0-eb1b-891afd6cb6e0"
      },
      "execution_count": null,
      "outputs": [
        {
          "output_type": "stream",
          "name": "stdout",
          "text": [
            "['b', 'c']\n"
          ]
        }
      ]
    },
    {
      "cell_type": "markdown",
      "source": [
        "Find the length of the tuple, genres_tuple:\n",
        "genres_tuple = (\"pop\", \"rock\", \"soul\", \"hard rock\", \"soft rock\", \\\"R&B\", \"progressive rock\", \"disco\") "
      ],
      "metadata": {
        "id": "qDeNs-hE6vlJ"
      }
    },
    {
      "cell_type": "code",
      "source": [
        "genres_tuple = (\"pop\", \"rock\", \"soul\", \"hard rock\", \"soft rock\", \"R&B\", \"progressive rock\", \"disco\")\n",
        "\n",
        "print(len(genres_tuple))"
      ],
      "metadata": {
        "colab": {
          "base_uri": "https://localhost:8080/"
        },
        "id": "cbjHA_aH68dg",
        "outputId": "8db59202-af81-4cac-8b13-592e109d3984"
      },
      "execution_count": null,
      "outputs": [
        {
          "output_type": "stream",
          "name": "stdout",
          "text": [
            "8\n"
          ]
        }
      ]
    },
    {
      "cell_type": "markdown",
      "source": [
        "Access the element, with respect to index 3: \n",
        "genres_tuple = (\"pop\", \"rock\", \"soul\", \"hard rock\", \"soft rock\", \"R&B\", \"progressive rock\", \"disco\")"
      ],
      "metadata": {
        "id": "s6LvJ0PI7bXb"
      }
    },
    {
      "cell_type": "code",
      "source": [
        "genres_tuple = (\"pop\", \"rock\", \"soul\", \"hard rock\", \"soft rock\", \"R&B\", \"progressive rock\", \"disco\")\n",
        "print(genres_tuple[3])"
      ],
      "metadata": {
        "colab": {
          "base_uri": "https://localhost:8080/"
        },
        "id": "-CRTU2nu7jiC",
        "outputId": "236ffc14-95b3-43d0-8f69-81016febe431"
      },
      "execution_count": null,
      "outputs": [
        {
          "output_type": "stream",
          "name": "stdout",
          "text": [
            "hard rock\n"
          ]
        }
      ]
    },
    {
      "cell_type": "markdown",
      "source": [
        "Find the first two elements of the tuple genres_tuple:  genres_tuple = (\"pop\", \"rock\", \"soul\", \"hard rock\", \"soft rock\", \"R&B\", \"progressive rock\", \"disco\")"
      ],
      "metadata": {
        "id": "etP--Jvz8Dlu"
      }
    },
    {
      "cell_type": "code",
      "source": [
        " genres_tuple = (\"pop\", \"rock\", \"soul\", \"hard rock\", \"soft rock\", \"R&B\", \"progressive rock\", \"disco\")\n",
        " print(genres_tuple[0:2])"
      ],
      "metadata": {
        "colab": {
          "base_uri": "https://localhost:8080/"
        },
        "id": "ssYoLjIu8KAU",
        "outputId": "347920e5-e296-418d-baec-43a36ef5e789"
      },
      "execution_count": null,
      "outputs": [
        {
          "output_type": "stream",
          "name": "stdout",
          "text": [
            "('pop', 'rock')\n"
          ]
        }
      ]
    },
    {
      "cell_type": "markdown",
      "source": [
        "Find the first index of \"disco\": genres_tuple = (\"pop\", \"rock\", \"soul\", \"hard rock\", \"soft rock\", \"R&B\", \"progressive rock\", \"disco\")"
      ],
      "metadata": {
        "id": "0LbsCs9X8irV"
      }
    },
    {
      "cell_type": "code",
      "source": [
        "print(genres_tuple.index(\"disco\"))"
      ],
      "metadata": {
        "colab": {
          "base_uri": "https://localhost:8080/"
        },
        "id": "8572qVfj8m01",
        "outputId": "86cd040b-5fb6-4aaa-be8f-63353149b922"
      },
      "execution_count": null,
      "outputs": [
        {
          "output_type": "stream",
          "name": "stdout",
          "text": [
            "7\n"
          ]
        }
      ]
    },
    {
      "cell_type": "markdown",
      "source": [
        "Generate a sorted List from the Tuple C_tuple=(-5, 1, -3):"
      ],
      "metadata": {
        "id": "-HFYdOo59E6J"
      }
    },
    {
      "cell_type": "code",
      "source": [
        "C_tuple = (-5, 1, -3)\n",
        "C_list = sorted(C_tuple)\n",
        "C_list"
      ],
      "metadata": {
        "colab": {
          "base_uri": "https://localhost:8080/"
        },
        "id": "YpXluZED9GI5",
        "outputId": "c1145c0e-3b0b-403c-b3cf-5d506dea5640"
      },
      "execution_count": null,
      "outputs": [
        {
          "output_type": "execute_result",
          "data": {
            "text/plain": [
              "[-5, -3, 1]"
            ]
          },
          "metadata": {},
          "execution_count": 7
        }
      ]
    },
    {
      "cell_type": "markdown",
      "source": [
        "Create a list a_list, with the following elements 1, hello, [1,2,3] and True."
      ],
      "metadata": {
        "id": "t9XAgR4yBr2x"
      }
    },
    {
      "cell_type": "code",
      "source": [
        "a_list = [1, 'hello', [1, 2, 3] , True]\n",
        "print(a_list)"
      ],
      "metadata": {
        "colab": {
          "base_uri": "https://localhost:8080/"
        },
        "id": "x0e9d2iZBtg_",
        "outputId": "bfe1a045-9d2a-42f4-b9c6-4d34e225b328"
      },
      "execution_count": null,
      "outputs": [
        {
          "output_type": "stream",
          "name": "stdout",
          "text": [
            "[1, 'hello', [1, 2, 3], True]\n"
          ]
        }
      ]
    },
    {
      "cell_type": "markdown",
      "source": [
        "Find the value stored at index 1 of a_list."
      ],
      "metadata": {
        "id": "Va5yCywECciH"
      }
    },
    {
      "cell_type": "code",
      "source": [
        "print(a_list[1])"
      ],
      "metadata": {
        "colab": {
          "base_uri": "https://localhost:8080/"
        },
        "id": "3ja-I_yJCh5w",
        "outputId": "a964c5f4-a6c4-43b4-cafc-80254e9b86bb"
      },
      "execution_count": null,
      "outputs": [
        {
          "output_type": "stream",
          "name": "stdout",
          "text": [
            "hello\n"
          ]
        }
      ]
    },
    {
      "cell_type": "markdown",
      "source": [
        "Retrieve the elements stored at index 1, 2 and 3 of a_list."
      ],
      "metadata": {
        "id": "Su8ImJrcCtZn"
      }
    },
    {
      "cell_type": "code",
      "source": [
        "print(a_list[1:4])"
      ],
      "metadata": {
        "colab": {
          "base_uri": "https://localhost:8080/"
        },
        "id": "_BTbFrBeCv7B",
        "outputId": "5decf0d6-213a-4c30-f5ea-bd8ea0d82bf7"
      },
      "execution_count": null,
      "outputs": [
        {
          "output_type": "stream",
          "name": "stdout",
          "text": [
            "['hello', [1, 2, 3], True]\n"
          ]
        }
      ]
    },
    {
      "cell_type": "markdown",
      "source": [
        "Concatenate the following lists A = [1, 'a'] and B = [2, 1, 'd']:"
      ],
      "metadata": {
        "id": "jzFqdUtADZYF"
      }
    },
    {
      "cell_type": "code",
      "source": [
        "A = [1, 'a'] \n",
        "B = [2, 1, 'd']\n",
        "\n",
        "print(A + B)"
      ],
      "metadata": {
        "colab": {
          "base_uri": "https://localhost:8080/"
        },
        "id": "HmFW5VThDa9S",
        "outputId": "ffeb2ff2-e2a9-4d9c-98b4-3397a1cb48be"
      },
      "execution_count": null,
      "outputs": [
        {
          "output_type": "stream",
          "name": "stdout",
          "text": [
            "[1, 'a', 2, 1, 'd']\n"
          ]
        }
      ]
    },
    {
      "cell_type": "markdown",
      "source": [
        "PREGUNTA 1\n",
        "\n",
        "¿Cuál es el resultado de las siguientes líneas de código:\n",
        "\n",
        "S={'A','B','C'}\n",
        "\n",
        "U={'A','Z','C'}\n",
        "\n",
        "U.union(S)"
      ],
      "metadata": {
        "id": "LsHz4mXgI_d-"
      }
    },
    {
      "cell_type": "code",
      "source": [
        "S={'A','B','C'}\n",
        "\n",
        "U={'A','Z','C'}\n",
        "\n",
        "U.union(S)\n",
        "print(U.union(S))"
      ],
      "metadata": {
        "colab": {
          "base_uri": "https://localhost:8080/"
        },
        "id": "BfVhbvjBJCVz",
        "outputId": "4ddf25b0-09f3-4ae3-b86a-a28dfb09213a"
      },
      "execution_count": null,
      "outputs": [
        {
          "output_type": "stream",
          "name": "stdout",
          "text": [
            "{'Z', 'C', 'B', 'A'}\n"
          ]
        }
      ]
    },
    {
      "cell_type": "markdown",
      "source": [
        "PREGUNTA 2\n",
        "\n",
        "¿Cuál es la intersección de conjunto Sy U?\n",
        "\n",
        "S={'A','B','C'}\n",
        "\n",
        "U={'A','Z','C'}"
      ],
      "metadata": {
        "id": "ftqOg-nZJ1MN"
      }
    },
    {
      "cell_type": "code",
      "source": [
        "S={'A','B','C'}\n",
        "\n",
        "U={'A','Z','C'}\n",
        "print(U)\n",
        "U= set(S)\n",
        "print(U)"
      ],
      "metadata": {
        "colab": {
          "base_uri": "https://localhost:8080/"
        },
        "id": "PksRH5JOJ5rn",
        "outputId": "cba3c4c2-ae22-47eb-ae5c-f085d73a5faa"
      },
      "execution_count": null,
      "outputs": [
        {
          "output_type": "stream",
          "name": "stdout",
          "text": [
            "{'Z', 'A', 'C'}\n",
            "{'C', 'B', 'A'}\n"
          ]
        }
      ]
    },
    {
      "cell_type": "markdown",
      "source": [
        "Cast the following list to a set: ['A','B','C','A','B','C']"
      ],
      "metadata": {
        "id": "47h4aawQLsKe"
      }
    },
    {
      "cell_type": "code",
      "source": [
        "set(['A','B','C','A','B','C'])"
      ],
      "metadata": {
        "colab": {
          "base_uri": "https://localhost:8080/"
        },
        "id": "WRoyDjQwLz4L",
        "outputId": "ccbb6dec-b3b4-4770-b2bc-7702335d8d3b"
      },
      "execution_count": null,
      "outputs": [
        {
          "output_type": "execute_result",
          "data": {
            "text/plain": [
              "{'A', 'B', 'C'}"
            ]
          },
          "metadata": {},
          "execution_count": 17
        }
      ]
    },
    {
      "cell_type": "markdown",
      "source": [
        "Add the string 'D' to the set S.\n",
        "S={'A','B','C'}"
      ],
      "metadata": {
        "id": "G2XsUEykMriy"
      }
    },
    {
      "cell_type": "code",
      "source": [
        "S={'A','B','C'}\n",
        "S.add(\"D\")\n",
        "print(S)"
      ],
      "metadata": {
        "colab": {
          "base_uri": "https://localhost:8080/"
        },
        "id": "ggxpbSMKMtx6",
        "outputId": "af1979db-28ae-4477-ffe1-e25394680bcd"
      },
      "execution_count": null,
      "outputs": [
        {
          "output_type": "stream",
          "name": "stdout",
          "text": [
            "{'C', 'B', 'A', 'D'}\n"
          ]
        }
      ]
    },
    {
      "cell_type": "markdown",
      "source": [
        "Find the intersection of set A and B.\n",
        "\n",
        "A={1,2,3,4,5}\n",
        "B={1,3,9, 12}\n",
        "\n",
        "A.intersection(B)"
      ],
      "metadata": {
        "id": "4IouwWXKNL4R"
      }
    },
    {
      "cell_type": "markdown",
      "source": [
        "Convert the list ['rap','house','electronic music', 'rap'] to a set:"
      ],
      "metadata": {
        "id": "zmXeMtLPR5Op"
      }
    },
    {
      "cell_type": "code",
      "source": [
        "set(['rap','house','electronic music','rap'])"
      ],
      "metadata": {
        "colab": {
          "base_uri": "https://localhost:8080/"
        },
        "id": "xhoHvYgZR-oG",
        "outputId": "23542eaa-0713-490c-d913-01fd1708dd26"
      },
      "execution_count": null,
      "outputs": [
        {
          "output_type": "execute_result",
          "data": {
            "text/plain": [
              "{'electronic music', 'house', 'rap'}"
            ]
          },
          "metadata": {},
          "execution_count": 25
        }
      ]
    },
    {
      "cell_type": "markdown",
      "source": [
        "Consider the list A = [1, 2, 2, 1] and set B = set([1, 2, 2, 1]), does sum(A) == sum(B)?"
      ],
      "metadata": {
        "id": "o9hSohz0SOeq"
      }
    },
    {
      "cell_type": "code",
      "source": [
        "A = [1, 2, 2, 1]  \n",
        "B = set([1, 2, 2, 1])\n",
        "print(\"the sum of A is:\", sum(A))\n",
        "print(\"the sum of B is:\", sum(B))"
      ],
      "metadata": {
        "colab": {
          "base_uri": "https://localhost:8080/"
        },
        "id": "u9S6kuUySQP1",
        "outputId": "8987d8ca-33e1-4803-804d-d2eef21ef97e"
      },
      "execution_count": null,
      "outputs": [
        {
          "output_type": "stream",
          "name": "stdout",
          "text": [
            "the sum of A is: 6\n",
            "the sum of B is: 3\n"
          ]
        }
      ]
    },
    {
      "cell_type": "markdown",
      "source": [
        "Create a new set album_set3 that is the union of album_set1 and album_set2:"
      ],
      "metadata": {
        "id": "OjScY5EfSmIJ"
      }
    },
    {
      "cell_type": "code",
      "source": [
        "album_set1 = set([\"Thriller\", 'AC/DC', 'Back in Black'])\n",
        "album_set2 = set([ \"AC/DC\", \"Back in Black\", \"The Dark Side of the Moon\"])\n",
        "print(album_set2)"
      ],
      "metadata": {
        "colab": {
          "base_uri": "https://localhost:8080/"
        },
        "id": "IBZcy902SrBM",
        "outputId": "9a320352-20ac-4003-a5a9-d1f3d323387c"
      },
      "execution_count": null,
      "outputs": [
        {
          "output_type": "stream",
          "name": "stdout",
          "text": [
            "{'The Dark Side of the Moon', 'Back in Black', 'AC/DC'}\n"
          ]
        }
      ]
    },
    {
      "cell_type": "markdown",
      "source": [
        "PREGUNTA 1\n",
        "\n",
        "Considere el siguiente diccionario:\n",
        "\n",
        "D = {'a':0,'b':1,'c':2}\n",
        "\n",
        "¿Cuál es el resultado de lo siguiente: D.values()?\n",
        "\n",
        "dict_values([0, 1, 2])"
      ],
      "metadata": {
        "id": "KtJnrM4oV29L"
      }
    },
    {
      "cell_type": "markdown",
      "source": [
        "PREGUNTA 2\n",
        "\n",
        "Considere el siguiente diccionario:\n",
        "\n",
        "D = {'a':0,'b':1,'c':2}\n",
        "¿Cuál es el resultado de lo siguiente D['b']?\n",
        "\n",
        "resp. 1\n"
      ],
      "metadata": {
        "id": "EGFCgmH1YlaM"
      }
    },
    {
      "cell_type": "markdown",
      "source": [
        "# Question sample dictionary\n",
        "\n",
        "soundtrack_dic = {\"The Bodyguard\":\"1992\", \"Saturday Night Fever\":\"1977\"}\n",
        "soundtrack_dic \n",
        "\n",
        "a) In the dictionary soundtrack_dic what are the keys?\n",
        "\n",
        "resp. soundtrack_dic.keys()"
      ],
      "metadata": {
        "id": "SYTUMuDAj-GP"
      }
    },
    {
      "cell_type": "markdown",
      "source": [
        "In the dictionary soundtrack_dic what are the values ?\n",
        "\n",
        "resp. soundtrack_dic.values()"
      ],
      "metadata": {
        "id": "853ZjUa4kW15"
      }
    },
    {
      "cell_type": "markdown",
      "source": [
        "The Albums Back in Black, The Bodyguard and Thriller have the following music recording sales in millions 50, 50 and 65 respectively:\n",
        "\n",
        "a) Create a dictionary album_sales_dict where the keys are the album name and the sales in millions are the values.\n",
        "\n",
        "resp. album_sales_dict = {\"The Bodyguard\":50, \"Back in Black\":50, \"Thriller\":65}"
      ],
      "metadata": {
        "id": "_gMUQf2nkhYf"
      }
    },
    {
      "cell_type": "markdown",
      "source": [
        "resp. album_sales_dict = {\"The Bodyguard\":50, \"Back in Black\":50, \"Thriller\":65}"
      ],
      "metadata": {
        "id": "Kzu9nszRlVZu"
      }
    },
    {
      "cell_type": "markdown",
      "source": [
        "b) Use the dictionary to find the total sales of Thriller:\n",
        "\n",
        "resp. album_sales_dict[\"Thriller\"]"
      ],
      "metadata": {
        "id": "1R08WhwplZ7J"
      }
    },
    {
      "cell_type": "markdown",
      "source": [
        "c) Find the names of the albums from the dictionary using the method keys():\n",
        "\n",
        "resp. album_sales_dict.keys()"
      ],
      "metadata": {
        "id": "jUrwwcv2lqgL"
      }
    },
    {
      "cell_type": "markdown",
      "source": [
        "d) Find the values of the recording sales from the dictionary using the method values:\n",
        "\n",
        "resp. album_sales_dict.values()"
      ],
      "metadata": {
        "id": "dabOk-Ccl2mr"
      }
    },
    {
      "cell_type": "markdown",
      "source": [
        "Question 1\n",
        "\n",
        "What is the syntax used to obtain the first element of the tuple:\n",
        "\n",
        "A = ('a','b','c')\n",
        "\n",
        "resp. A[0]"
      ],
      "metadata": {
        "id": "UQTMBa--mYYs"
      }
    },
    {
      "cell_type": "markdown",
      "source": [
        "Question 2\n",
        "\n",
        "After applying the following method, L.append(['a','b']), the following list will only be one element longer.\n",
        "\n",
        "resp. True"
      ],
      "metadata": {
        "id": "tibAldZLmuX7"
      }
    },
    {
      "cell_type": "markdown",
      "source": [
        "Pregunta 3\n",
        "\n",
        "¿Cuántos elementos duplicados puedes tener en un conjunto?\n",
        "\n",
        "resp. 0. You can only have one unique element in a set."
      ],
      "metadata": {
        "id": "zacNsmlbnoHu"
      }
    },
    {
      "cell_type": "markdown",
      "source": [
        "Pregunta 4\n",
        "\n",
        "Considere el siguiente diccionario de Python:\n",
        "\n",
        "Dict={\"A\":1,\"B\":\"2\",\"C\":[3,3,3],\"D\":(4,4,4),'E':5,'F':6}\n",
        "\n",
        "¿Cuál es el resultado de la siguiente operación: Dict[\"D\"]?\n",
        "\n",
        "resp. (4, 4, 4)"
      ],
      "metadata": {
        "id": "vrStV5X_oI5s"
      }
    },
    {
      "cell_type": "markdown",
      "source": [
        "Pregunta 5\n",
        "\n",
        "¿Cuál es una diferencia importante entre listas y tuplas?\n",
        "\n",
        "resp. Lists are mutable, tuples are not."
      ],
      "metadata": {
        "id": "0dhtUzC-omR4"
      }
    },
    {
      "cell_type": "markdown",
      "source": [
        "MODULO 3"
      ],
      "metadata": {
        "id": "3cZmk9LeH-Qr"
      }
    },
    {
      "cell_type": "markdown",
      "source": [
        "Find the value of i that produces a True:\n",
        "\n",
        "i=\n",
        "i!=0\n",
        "\n",
        "resp. i = 1 "
      ],
      "metadata": {
        "id": "qsLsJf3sIR5T"
      }
    },
    {
      "cell_type": "markdown",
      "source": [
        "x = \n",
        "if(x=='a'):\n",
        "    print(\"this is a\")\n",
        "else:\n",
        "    print(\"this is  not a\")\n",
        "\n",
        "\n",
        "resp. x = 'a'"
      ],
      "metadata": {
        "id": "Ep6-bKCMIuDV"
      }
    },
    {
      "cell_type": "markdown",
      "source": [
        "Find the value of y that produces a True statement:\n",
        "\n",
        "y=\n",
        "x=1\n",
        "x>0 and y<10\n",
        "\n",
        "resp.  y = 0"
      ],
      "metadata": {
        "id": "WvaWk-MvI-0V"
      }
    },
    {
      "cell_type": "markdown",
      "source": [
        "QUESTION 1\n",
        "\n",
        "Select the values of i that produces a True for the following:\n",
        "\n",
        "i!=0\n",
        "\n",
        "resp. i=1, -1 y 100000000"
      ],
      "metadata": {
        "id": "gc4n9y3zJYQR"
      }
    },
    {
      "cell_type": "markdown",
      "source": [
        "PREGUNTA 2\n",
        "\n",
        "¿Cuál es la salida de lo siguiente:\n",
        "\n",
        "x='a'\n",
        "\n",
        "if(x!='a'):\n",
        "\n",
        "print(\"This is not a.\")\n",
        "\n",
        "else:\n",
        "\n",
        "print(\"This is a.\")\n",
        "\n",
        "resp. \"This is a.\""
      ],
      "metadata": {
        "id": "45iYupHUJzBo"
      }
    },
    {
      "cell_type": "markdown",
      "source": [
        "Write an if statement to determine if an album had a rating greater than 8. Test it using the rating for the album “Back in Black” that had a rating of 8.5. If the statement is true print \"This album is Amazing!\""
      ],
      "metadata": {
        "id": "Bp98wMyyuMrY"
      }
    },
    {
      "cell_type": "code",
      "source": [
        "rating = 8.5\n",
        "if rating > 8:\n",
        "  print(\"This album is Amazing!\")"
      ],
      "metadata": {
        "colab": {
          "base_uri": "https://localhost:8080/"
        },
        "id": "_HTZJl-zuQCI",
        "outputId": "aded533b-dcc0-469e-9ec9-d988f03647d3"
      },
      "execution_count": null,
      "outputs": [
        {
          "output_type": "stream",
          "name": "stdout",
          "text": [
            "This album is Amazing!\n"
          ]
        }
      ]
    },
    {
      "cell_type": "markdown",
      "source": [
        "Write an if-else statement that performs the following. If the rating is larger then eight print “this album is amazing”. If the rating is less than or equal to 8 print “this album is ok”."
      ],
      "metadata": {
        "id": "bD_XrBEivAOh"
      }
    },
    {
      "cell_type": "code",
      "source": [
        "rating = 8.5\n",
        "if rating > 8:\n",
        "    print (\"this album is amazing\")\n",
        "else:\n",
        "    print (\"this album is ok\")\n"
      ],
      "metadata": {
        "colab": {
          "base_uri": "https://localhost:8080/"
        },
        "id": "LaknjNLnvBVS",
        "outputId": "2e800dc5-5a38-4d23-c89e-cf80550a6faa"
      },
      "execution_count": null,
      "outputs": [
        {
          "output_type": "stream",
          "name": "stdout",
          "text": [
            "this album is amazing\n"
          ]
        }
      ]
    },
    {
      "cell_type": "markdown",
      "source": [
        "Write an if statement to determine if an album came out before 1980 or in the years: 1991 or 1993. If the condition is true print out the year the album came out."
      ],
      "metadata": {
        "id": "9q6QlW2uwnZ-"
      }
    },
    {
      "cell_type": "code",
      "source": [
        "album_year = 1979\n",
        "\n",
        "if album_year < 1980 or album_year == 1991 or album_year == 1993:\n",
        "    print(\"This album came out in year\", album_year)"
      ],
      "metadata": {
        "colab": {
          "base_uri": "https://localhost:8080/"
        },
        "id": "DVx5cI-mwofL",
        "outputId": "e5140074-716e-4b45-8608-e1b7afb6301d"
      },
      "execution_count": null,
      "outputs": [
        {
          "output_type": "stream",
          "name": "stdout",
          "text": [
            "This album came out in year 1979\n"
          ]
        }
      ]
    },
    {
      "cell_type": "markdown",
      "source": [
        "QUESTION 1\n",
        "\n",
        "What is the output of the following lines of code:\n",
        "\n",
        "A=[3,4,5]\n",
        "\n",
        "for a in A:\n",
        "\n",
        "print(a)\n",
        "\n",
        "resp. a=1,2,3"
      ],
      "metadata": {
        "id": "WdHgn_czytfq"
      }
    },
    {
      "cell_type": "markdown",
      "source": [
        "QUESTION 2\n",
        "\n",
        "What is the output of the following lines of code:\n",
        "\n",
        "x=3\n",
        "\n",
        "y=1\n",
        "\n",
        "while(y!=x):\n",
        "\n",
        "print(y)\n",
        "\n",
        "y=y+1\n",
        "\n",
        "resp. y=1,2"
      ],
      "metadata": {
        "id": "XDdQCx3GzTeq"
      }
    },
    {
      "cell_type": "markdown",
      "source": [
        "Write a for loop the prints out all the element between -5 and 5 using the range function."
      ],
      "metadata": {
        "id": "AnHh_qk10Ngn"
      }
    },
    {
      "cell_type": "code",
      "source": [
        "for i in range(-4,5)\n",
        "print(i)"
      ],
      "metadata": {
        "id": "8cYgALHr0O4q"
      },
      "execution_count": null,
      "outputs": []
    },
    {
      "cell_type": "markdown",
      "source": [
        "Print the elements of the following list: Genres=[ 'rock', 'R&B', 'Soundtrack', 'R&B', 'soul', 'pop'] Make sure you follow Python conventions."
      ],
      "metadata": {
        "id": "3erxMbC_0nfw"
      }
    },
    {
      "cell_type": "code",
      "source": [
        "Genres = ['rock', 'R&B', 'Soundtrack', 'R&B', 'soul', 'pop']\n",
        "for Genre in Genres:\n",
        "    print(Genre)"
      ],
      "metadata": {
        "colab": {
          "base_uri": "https://localhost:8080/"
        },
        "id": "jdfUIlj80off",
        "outputId": "ccbe632f-9c89-485e-81d4-21f0e58ab2a5"
      },
      "execution_count": null,
      "outputs": [
        {
          "output_type": "stream",
          "name": "stdout",
          "text": [
            "rock\n",
            "R&B\n",
            "Soundtrack\n",
            "R&B\n",
            "soul\n",
            "pop\n"
          ]
        }
      ]
    },
    {
      "cell_type": "markdown",
      "source": [
        "Write a for loop that prints out the following list: squares=['red', 'yellow', 'green', 'purple', 'blue']"
      ],
      "metadata": {
        "id": "bzttzVmL1NAB"
      }
    },
    {
      "cell_type": "code",
      "source": [
        "squares=['red', 'yellow', 'green', 'purple', 'blue']\n",
        "for square in squares:\n",
        "    print(square)"
      ],
      "metadata": {
        "colab": {
          "base_uri": "https://localhost:8080/"
        },
        "id": "Zgnb_27j1Nzs",
        "outputId": "7f964b8f-ad69-43e6-b147-29de48fbe903"
      },
      "execution_count": null,
      "outputs": [
        {
          "output_type": "stream",
          "name": "stdout",
          "text": [
            "red\n",
            "yellow\n",
            "green\n",
            "purple\n",
            "blue\n"
          ]
        }
      ]
    },
    {
      "cell_type": "markdown",
      "source": [
        "Write a while loop to display the values of the Rating of an album playlist stored in the list PlayListRatings. If the score is less than 6, exit the loop. The list PlayListRatings is given by: PlayListRatings = [10, 9.5, 10, 8, 7.5, 5, 10, 10]"
      ],
      "metadata": {
        "id": "TmS2Y8Rn1j8M"
      }
    },
    {
      "cell_type": "code",
      "source": [
        "PlayListRatings = [10, 9.5, 10, 8, 7.5, 5, 10, 10]\n",
        "i = 0\n",
        "Rating = PlayListRatings[0]\n",
        "while(i < len(PlayListRatings) and Rating >= 6):\n",
        "    print(Rating)\n",
        "    i = i + 1 # This prints the value 10 only once \n",
        "    Rating = PlayListRatings[i]\n",
        "    i = i + 1 #Try uncommenting the line and comment the previous i = i + 1, and see the difference, 10 value will get printed twice because when the loop starts it will print Rating and then with PlayListRatings[0], it will again assign the value 10 to Ratings. \n",
        "    "
      ],
      "metadata": {
        "colab": {
          "base_uri": "https://localhost:8080/"
        },
        "id": "GkramyuO1qfU",
        "outputId": "59298875-737d-4b62-e4bd-f6a9b2097b6d"
      },
      "execution_count": null,
      "outputs": [
        {
          "output_type": "stream",
          "name": "stdout",
          "text": [
            "10\n",
            "9.5\n",
            "8\n"
          ]
        }
      ]
    },
    {
      "cell_type": "markdown",
      "source": [
        "Write a while loop to copy the strings 'orange' of the list squares to the list new_squares. Stop and exit the loop if the value on the list is not 'orange':"
      ],
      "metadata": {
        "id": "mH-ZxBhf1292"
      }
    },
    {
      "cell_type": "code",
      "source": [
        "squares = ['orange', 'orange', 'purple', 'blue ', 'orange']\n",
        "new_squares = []\n",
        "i = 0\n",
        "while(i < len(squares) and squares[i] == 'orange'):\n",
        "    new_squares.append(squares[i])\n",
        "    i = i + 1\n",
        "print (new_squares)\n",
        "    "
      ],
      "metadata": {
        "colab": {
          "base_uri": "https://localhost:8080/"
        },
        "id": "FA39UDDf139B",
        "outputId": "0ac0ac30-3994-4fb8-d279-0503413bc51e"
      },
      "execution_count": null,
      "outputs": [
        {
          "output_type": "stream",
          "name": "stdout",
          "text": [
            "['orange', 'orange']\n"
          ]
        }
      ]
    },
    {
      "cell_type": "markdown",
      "source": [
        "QUESTION 1\n",
        "\n",
        "What is the value of c after the following block of code is run ?\n",
        "\n",
        "a=1\n",
        "\n",
        "def add(b):\n",
        "\n",
        "return a+b\n",
        "\n",
        "c=add(10)\n",
        "\n",
        "resp. 11"
      ],
      "metadata": {
        "id": "D02G-7pW2aml"
      }
    },
    {
      "cell_type": "markdown",
      "source": [
        "QUESTION 2\n",
        "\n",
        "What is the value of c after the following block of code is run with proper numerical input?\n",
        "\n",
        "def f(*x):\n",
        "\n",
        "return sum(x)\n",
        "\n",
        "resp. Return the total of a variable amount of parameters."
      ],
      "metadata": {
        "id": "zkSOkKPE4KDo"
      }
    },
    {
      "cell_type": "markdown",
      "source": [
        "Complete the function  f  so that it returns the product of a and b. Use the next cell to test the function.\n",
        "\n",
        "def f(a,b):\n",
        "    \n",
        "    return a*b\n",
        "\n",
        "\n",
        "def f(a,b):\n",
        "    \n",
        "    return a*b"
      ],
      "metadata": {
        "id": "zdNI6UO28dxs"
      }
    },
    {
      "cell_type": "markdown",
      "source": [
        "Complete the function g such that the input c is a list of integers and the output is the sum of all the elements in the list.\n",
        "\n",
        "def g(c):\n",
        "\n",
        "    return\n",
        "\n",
        "\n",
        "def g(c):\n",
        "\n",
        "    return sum(c) "
      ],
      "metadata": {
        "id": "dkoomqrW8z8b"
      }
    },
    {
      "cell_type": "markdown",
      "source": [
        "Come up with a function that divides the first input by the second input:"
      ],
      "metadata": {
        "id": "QB_UBJph9ZZr"
      }
    },
    {
      "cell_type": "code",
      "source": [
        "def div(a, b):\n",
        "    return(a/b)"
      ],
      "metadata": {
        "id": "MlT-BM069fgr"
      },
      "execution_count": null,
      "outputs": []
    },
    {
      "cell_type": "markdown",
      "source": [
        "Use the function con for the following question."
      ],
      "metadata": {
        "id": "e6vhizm19oFS"
      }
    },
    {
      "cell_type": "code",
      "source": [
        "def con(a, b):\n",
        "    return(a + b)"
      ],
      "metadata": {
        "id": "c_KiFxnQ9pGK"
      },
      "execution_count": null,
      "outputs": []
    },
    {
      "cell_type": "markdown",
      "source": [
        "Can the con function we defined before be used to add two integers or strings?"
      ],
      "metadata": {
        "id": "-of-L9Gt9sP9"
      }
    },
    {
      "cell_type": "code",
      "source": [
        "Yes, for example: \n",
        "con(2, 2)"
      ],
      "metadata": {
        "id": "k2k0uWqH9wsu"
      },
      "execution_count": null,
      "outputs": []
    },
    {
      "cell_type": "markdown",
      "source": [
        "Can the con function we defined before be used to concatenate lists or tuples?"
      ],
      "metadata": {
        "id": "hDsZV6x-93Yk"
      }
    },
    {
      "cell_type": "code",
      "source": [
        "Yes, for example: \n",
        "con(['a', 1], ['b', 1])"
      ],
      "metadata": {
        "id": "P0dDAPbM94Tf"
      },
      "execution_count": null,
      "outputs": []
    },
    {
      "cell_type": "markdown",
      "source": [
        "PREGUNTA 1\n",
        "\n",
        "Usando Class Car en el laboratorio, cree un objeto Car con los siguientes atributos:\n",
        "\n",
        "make=\"Honda\"\n",
        "\n",
        "model=\"Accord\"\n",
        "\n",
        "color=\"blue\"\n",
        "\n",
        "resp. Coche (modelo = \"Acuerdo\", marca = \"Honda\", color = \"azul\")"
      ],
      "metadata": {
        "id": "cJatceG_B9IP"
      }
    },
    {
      "cell_type": "markdown",
      "source": [
        "QUESTION 2\n",
        "\n",
        "From the lab, how would you change the data attribute owner_number ?\n",
        "\n",
        "\n",
        "resp. Utilising the method sell()."
      ],
      "metadata": {
        "id": "WnUDs43hCE5s"
      }
    },
    {
      "cell_type": "markdown",
      "source": [
        "Create a  Car  object \"my_car\" with the given data attributes:\n",
        "\n",
        "make=\"BMW\"\n",
        "model=\"M3\"\n",
        "color=\"red\"\n",
        "\n",
        "resp. my_car = Car(make,model,color)"
      ],
      "metadata": {
        "id": "tbebchkPCtrW"
      }
    },
    {
      "cell_type": "markdown",
      "source": [
        "Use the method car_info() to print out the data attributes.\n",
        "\n",
        "resp. my_car.car_info()"
      ],
      "metadata": {
        "id": "GBIc4T-aC37l"
      }
    },
    {
      "cell_type": "markdown",
      "source": [
        "Call the method  sell()  in the loop, then call the method  car_info() again\n",
        "\n",
        "for i in range(5):\n",
        "\n",
        "resp. \n",
        "\n",
        "for i in range(5):\n",
        "    my_car.sell()\n",
        "\n",
        "my_car.car_info()"
      ],
      "metadata": {
        "id": "mvW_okX8DAa_"
      }
    },
    {
      "cell_type": "markdown",
      "source": [
        "Question 1\n",
        "1 punto posible (calificable)\n",
        "What is the output of the following lines of code:\n",
        "\n",
        "x=1\n",
        "\n",
        "if(x!=1):\n",
        "\n",
        "print('Hello')\n",
        "\n",
        "else:\n",
        "\n",
        "print('Hi')\n",
        "\n",
        "print('Mike')\n",
        "\n",
        "resp. Hi Mike"
      ],
      "metadata": {
        "id": "wqTMiO8CD2dR"
      }
    },
    {
      "cell_type": "markdown",
      "source": [
        "Question 2\n",
        "\n",
        "What is the output of the following few lines of code?\n",
        "\n",
        "A = ['1','2','3']\n",
        "\n",
        "for a in A:\n",
        "\n",
        "print(2*a)\n",
        "\n",
        "resp. 2 4 6"
      ],
      "metadata": {
        "id": "Ff9QFbTZEGlJ"
      }
    },
    {
      "cell_type": "markdown",
      "source": [
        "Question 3\n",
        "\n",
        "Consider the function Delta, when will the function return a value of 1\n",
        "\n",
        "def Delta(x):\n",
        "\n",
        "if x==0:\n",
        "\n",
        "y=1;\n",
        "\n",
        "else:\n",
        "\n",
        "y=0;\n",
        "\n",
        "return(y)\n",
        "\n",
        "resp. When the input is 0."
      ],
      "metadata": {
        "id": "3S1_HLEUEk1Z"
      }
    },
    {
      "cell_type": "markdown",
      "source": [
        "What is the correct way to sort the list 'B' using a method? The result should not return a new list, just change the list 'B'.\n",
        "\n",
        "resp. B.sort()"
      ],
      "metadata": {
        "id": "6flkVeDWE--t"
      }
    },
    {
      "cell_type": "markdown",
      "source": [
        "What are the keys of the following dictionary: {'a':1,'b':2}?\n",
        "\n",
        "resp. a,b"
      ],
      "metadata": {
        "id": "riqnylaeFL1A"
      }
    },
    {
      "cell_type": "markdown",
      "source": [],
      "metadata": {
        "id": "5MPnQeSqkO-v"
      }
    }
  ]
}
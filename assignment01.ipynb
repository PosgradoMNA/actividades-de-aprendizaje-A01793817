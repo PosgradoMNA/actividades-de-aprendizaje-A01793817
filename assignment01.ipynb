{
  "nbformat": 4,
  "nbformat_minor": 0,
  "metadata": {
    "colab": {
      "name": "assignment01.ipynb",
      "provenance": [],
      "include_colab_link": true
    },
    "kernelspec": {
      "name": "python3",
      "display_name": "Python 3"
    },
    "language_info": {
      "name": "python"
    }
  },
  "cells": [
    {
      "cell_type": "markdown",
      "metadata": {
        "id": "view-in-github",
        "colab_type": "text"
      },
      "source": [
        "<a href=\"https://colab.research.google.com/github/PosgradoMNA/actividades-de-aprendizaje-A01793817/blob/main/assignment01.ipynb\" target=\"_parent\"><img src=\"https://colab.research.google.com/assets/colab-badge.svg\" alt=\"Open In Colab\"/></a>"
      ]
    },
    {
      "cell_type": "markdown",
      "source": [
        "Módulo 4\n",
        "\n",
        "\n",
        "4.1 Leer archivos en Python\n",
        "Sentencia para abrir un archivo: file1 = open(parametro 1, parametro 2)\n",
        "\n",
        "parámetro 1 =  ruta del archivo\n",
        "parámetro 2 =  es el modo, los valores pueden ser:\n",
        "\n",
        "r -> lectura\n",
        "w -> escritura\n",
        "a -> agregar\n",
        "\n",
        "ejemplo file1 = open(\"\\escritorio\\prueba.cvs\",\"w\")\n",
        "\n",
        "ejemplo#1:\n",
        "with open(\"ejemplo.txt\",\"r\") as file1\n",
        "    file_stuff = file1.read()\n",
        "    print(file_stuff)\n",
        "print(file1.closed)\n",
        "print(file_stuff)\n",
        "\n",
        "\n",
        "ejemplo#2:\n",
        "with open(\"ejemplo.txt\", \"r\") as File2\n",
        "    file_stuff = File2.readlines()\n",
        "    print(file_stuff)\n",
        "\n",
        "ejemplo#3:\n",
        "with open(\"Ejemplo3.txt\",\"r\") as File3\n",
        "    for line in File3\n",
        "    print(line)\n",
        "\n",
        "ejemplo#4 - Leer por cantidad de posiciones:\n",
        "with open(\"ejemplo4.txt\",\"r\") as File4\n",
        "    file_stuff = File4.readlines(4) \n",
        "    print(file_stuff)   #Imprime las primeras cuatros posiciones\n",
        "\n",
        "4.1 Escribir archivos en Python\n",
        "\n",
        "sentencia: File1 = open(\"/resources/data/Tema4.txt\",\"r\")\n",
        "\n",
        "directorio: /resources/data/\n",
        "mode: r\n",
        "objeto: File1\n",
        "\n",
        "Escribir en un archivo ejem -> File1.write(\"Estas es una linea\")\n",
        "Escribir en un archivo ejem -> File1.write(\"Esta es la linea 1\\n\")\n",
        "                               File1.write(\"Esta es la linea 2\\n\")\n",
        "Escribir en un archivo a través de un ciclo for:\n",
        "\n",
        "Ejem ->\n",
        "\n",
        "Lines=[\"Esta es la linea A\\n\",\"Esta es la linea B\\n\"]\n",
        "with open(\"/resource/data/prueba1.txt\",\"w\") as File1:\n",
        "    for line in Lines\n",
        "      File1.write(line)\n",
        "Adjuntar una línea en un archivo:\n",
        "\n",
        "Ejem ->\n",
        "\n",
        "with open(\"/resource/data/prueba1.txt\",\"a\") as File1\n",
        "    File1.write(\"Esto es la línea C\")\n",
        "\n",
        "Ejem Copiar lineas de un archivo a otro ->\n",
        "\n",
        "with open(\"/resource/data/prueba1.txt\",\"r\") as readFile\n",
        "    with open(\"/resource/data/prueba2.txt\",\"w\") as writeFile\n",
        "        for line in readFile\n",
        "          writeFile.write(line)\n"
      ],
      "metadata": {
        "id": "PJzIq9PAT1hI"
      }
    },
    {
      "cell_type": "code",
      "source": [
        "# Write line to file\n",
        "exmp2 = 'Example2.txt'\n",
        "with open(exmp2, 'w') as writefile:\n",
        "    writefile.write(\"This is line A\")\n",
        "\n"
      ],
      "metadata": {
        "id": "LZNHFwgF-aXO"
      },
      "execution_count": 5,
      "outputs": []
    },
    {
      "cell_type": "code",
      "source": [
        "# Read file\n",
        "with open(exmp2,'r') as readfile:\n",
        " print(readfile.read())"
      ],
      "metadata": {
        "id": "MRS_skr3-kvN",
        "outputId": "53c10dbd-c2c2-45f9-95e4-9aeed4b08103",
        "colab": {
          "base_uri": "https://localhost:8080/"
        }
      },
      "execution_count": 25,
      "outputs": [
        {
          "output_type": "stream",
          "name": "stdout",
          "text": [
            "This is line A1\n",
            "This is line B2\n",
            "This is line C3\n",
            "\n"
          ]
        }
      ]
    },
    {
      "cell_type": "code",
      "source": [
        "# Write line to file\n",
        "with open(exmp2,'w') as writefile:\n",
        "  writefile.write(\"Esta es la línea A\\n\")\n",
        "  writefile.write(\"Esta es la línea B\\n\")"
      ],
      "metadata": {
        "id": "wla4_UvH_XA6"
      },
      "execution_count": 19,
      "outputs": []
    },
    {
      "cell_type": "code",
      "source": [
        "# Sample list of text\n",
        "\n",
        "Lines = [\"This is line Javier\\n\", \"This is line Pedro\\n\", \"This is line Juan\\n\"]\n",
        "Lines"
      ],
      "metadata": {
        "id": "_j_2FQ3iBT3U",
        "outputId": "90e2f26c-655e-4570-fda9-35125020caa5",
        "colab": {
          "base_uri": "https://localhost:8080/"
        }
      },
      "execution_count": 26,
      "outputs": [
        {
          "output_type": "execute_result",
          "data": {
            "text/plain": [
              "['This is line Javier\\n', 'This is line Pedro\\n', 'This is line Juan\\n']"
            ]
          },
          "metadata": {},
          "execution_count": 26
        }
      ]
    },
    {
      "cell_type": "code",
      "source": [
        "# Write the strings in the list to text file\n",
        "\n",
        "with open('Example2.txt', 'w') as writefile:\n",
        "    for line in Lines:\n",
        "        writefile.write(line)"
      ],
      "metadata": {
        "id": "7C1CUKqbBZmt"
      },
      "execution_count": 30,
      "outputs": []
    },
    {
      "cell_type": "code",
      "source": [
        "with open('Example2.txt','r') as readfile:\n",
        "  print(readfile.read())"
      ],
      "metadata": {
        "id": "savrcpN-C_9Z",
        "outputId": "15f3e173-d279-4542-b7a0-8b2b34fcaff5",
        "colab": {
          "base_uri": "https://localhost:8080/"
        }
      },
      "execution_count": 33,
      "outputs": [
        {
          "output_type": "stream",
          "name": "stdout",
          "text": [
            "Overwrite\n",
            "\n"
          ]
        }
      ]
    },
    {
      "cell_type": "code",
      "source": [
        "with open('Example2.txt', 'w') as writefile:\n",
        "    writefile.write(\"Overwrite\\n\")\n",
        "with open('Example2.txt', 'r') as testwritefile:\n",
        "    print(testwritefile.read())"
      ],
      "metadata": {
        "id": "Qm7oR5PxDXe-",
        "outputId": "63b8f01e-a5a1-4673-9f60-5856277951a3",
        "colab": {
          "base_uri": "https://localhost:8080/"
        }
      },
      "execution_count": 32,
      "outputs": [
        {
          "output_type": "stream",
          "name": "stdout",
          "text": [
            "Overwrite\n",
            "\n"
          ]
        }
      ]
    },
    {
      "cell_type": "code",
      "source": [
        "# Write a new line to text file\n",
        "with open('Example2.txt','a') as attfile:\n",
        "  attfile.write(\"Linea 1\\n\")\n",
        "  attfile.write(\"Linea 2\\n\")\n",
        "  attfile.write(\"linea 3\\n\")\n",
        "with open('Example2.txt','r') as readfile:\n",
        "  print(readfile.read())"
      ],
      "metadata": {
        "id": "mxM_WppZPMFx",
        "colab": {
          "base_uri": "https://localhost:8080/"
        },
        "outputId": "e42ad2db-2132-482f-ddb9-1c71b9a49d0e"
      },
      "execution_count": 37,
      "outputs": [
        {
          "output_type": "stream",
          "name": "stdout",
          "text": [
            "Overwrite\n",
            "Linea 1\n",
            "Linea 2\n",
            "linea 3\n",
            "This is line E\n",
            "This is line E\n",
            "Linea 1\n",
            "Linea 2\n",
            "linea 3\n",
            "\n"
          ]
        }
      ]
    },
    {
      "cell_type": "code",
      "source": [
        "with open('Example2.txt', 'a+') as testwritefile:\n",
        "    testwritefile.write(\"This is line E\\n\")\n",
        "    print(testwritefile.read())"
      ],
      "metadata": {
        "id": "ez3S0k2uG6eS",
        "outputId": "a11c9422-b817-481b-859b-18b070775df3",
        "colab": {
          "base_uri": "https://localhost:8080/"
        }
      },
      "execution_count": 38,
      "outputs": [
        {
          "output_type": "stream",
          "name": "stdout",
          "text": [
            "\n"
          ]
        }
      ]
    },
    {
      "cell_type": "code",
      "source": [
        "with open('Example2.txt', 'a+') as testwritefile:\n",
        "    print(\"Initial Location: {}\".format(testwritefile.tell()))\n",
        "    \n",
        "    data = testwritefile.read()\n",
        "    if (not data):  #empty strings return false in python\n",
        "            print('Read nothing') \n",
        "    else: \n",
        "            print(testwritefile.read())\n",
        "            \n",
        "    testwritefile.seek(0,0) # move 0 bytes from beginning.\n",
        "    \n",
        "    print(\"\\nNew Location : {}\".format(testwritefile.tell()))\n",
        "    data = testwritefile.read()\n",
        "    if (not data): \n",
        "            print('Read nothing') \n",
        "    else: \n",
        "            print(data)\n",
        "    \n",
        "    print(\"Location after read: {}\".format(testwritefile.tell()) )"
      ],
      "metadata": {
        "id": "7ufWUP5fHkaG",
        "outputId": "c7b35f8c-8db6-4cf9-d971-f39ae14a9f6d",
        "colab": {
          "base_uri": "https://localhost:8080/"
        }
      },
      "execution_count": 39,
      "outputs": [
        {
          "output_type": "stream",
          "name": "stdout",
          "text": [
            "Initial Location: 103\n",
            "Read nothing\n",
            "\n",
            "New Location : 0\n",
            "Overwrite\n",
            "Linea 1\n",
            "Linea 2\n",
            "linea 3\n",
            "This is line E\n",
            "This is line E\n",
            "Linea 1\n",
            "Linea 2\n",
            "linea 3\n",
            "This is line E\n",
            "\n",
            "Location after read: 103\n"
          ]
        }
      ]
    },
    {
      "cell_type": "code",
      "source": [
        "with open('Example2.txt', 'r+') as testwritefile:\n",
        "    data = testwritefile.readlines()\n",
        "    testwritefile.seek(0,0) #write at beginning of file\n",
        "   \n",
        "    testwritefile.write(\"Line 1\" + \"\\n\")\n",
        "    testwritefile.write(\"Line 2\" + \"\\n\")\n",
        "    testwritefile.write(\"Line 3\" + \"\\n\")\n",
        "    testwritefile.write(\"finished\\n\")\n",
        "    #Uncomment the line below\n",
        "    #testwritefile.truncate()\n",
        "    testwritefile.seek(0,0)\n",
        "    print(testwritefile.read())\n",
        "    "
      ],
      "metadata": {
        "id": "LpyckGA1H6A2",
        "outputId": "fc526151-6a78-49ed-da11-8e89458b12ab",
        "colab": {
          "base_uri": "https://localhost:8080/"
        }
      },
      "execution_count": 40,
      "outputs": [
        {
          "output_type": "stream",
          "name": "stdout",
          "text": [
            "Line 1\n",
            "Line 2\n",
            "Line 3\n",
            "finished\n",
            "a 3\n",
            "This is line E\n",
            "This is line E\n",
            "Linea 1\n",
            "Linea 2\n",
            "linea 3\n",
            "This is line E\n",
            "\n"
          ]
        }
      ]
    },
    {
      "cell_type": "code",
      "source": [
        "# Copy file to another\n",
        "\n",
        "with open('Example2.txt','r') as readfile:\n",
        "    with open('Example3.txt','w') as writefile:\n",
        "          for line in readfile:\n",
        "                writefile.write(line)"
      ],
      "metadata": {
        "id": "XoMarT-oH_CT"
      },
      "execution_count": 41,
      "outputs": []
    },
    {
      "cell_type": "code",
      "source": [
        "# Verify if the copy is successfully executed\n",
        "\n",
        "with open('Example3.txt','r') as testwritefile:\n",
        "    print(testwritefile.read())"
      ],
      "metadata": {
        "id": "qoVO8-1uIH_L",
        "outputId": "293b5282-e25e-4617-e748-0863d08dc305",
        "colab": {
          "base_uri": "https://localhost:8080/"
        }
      },
      "execution_count": 42,
      "outputs": [
        {
          "output_type": "stream",
          "name": "stdout",
          "text": [
            "Line 1\n",
            "Line 2\n",
            "Line 3\n",
            "finished\n",
            "a 3\n",
            "This is line E\n",
            "This is line E\n",
            "Linea 1\n",
            "Linea 2\n",
            "linea 3\n",
            "This is line E\n",
            "\n"
          ]
        }
      ]
    },
    {
      "cell_type": "code",
      "source": [
        "def cleanFiles(currentMem,exMem):\n",
        "    with open(currentMem,'r+') as writeFile: \n",
        "        with open(exMem,'a+') as appendFile:\n",
        "            #get the data\n",
        "            writeFile.seek(0)\n",
        "            members = writeFile.readlines()\n",
        "            #remove header\n",
        "            header = members[0]\n",
        "            members.pop(0)\n",
        "                \n",
        "            inactive = [member for member in members if ('no' in member)]\n",
        "            '''\n",
        "            The above is the same as \n",
        "\n",
        "            for member in members:\n",
        "            if 'no' in member:\n",
        "                inactive.append(member)\n",
        "            '''\n",
        "            #go to the beginning of the write file\n",
        "            writeFile.seek(0) \n",
        "            writeFile.write(header)\n",
        "            for member in members:\n",
        "                if (member in inactive):\n",
        "                    appendFile.write(member)\n",
        "                else:\n",
        "                    writeFile.write(member)      \n",
        "            writeFile.truncate()\n",
        "                \n",
        "memReg = 'members.txt'\n",
        "exReg = 'inactive.txt'\n",
        "cleanFiles(memReg,exReg)\n",
        "\n",
        "# code to help you see the files\n",
        "\n",
        "headers = \"Membership No  Date Joined  Active  \\n\"\n",
        "\n",
        "with open(memReg,'r') as readFile:\n",
        "    print(\"Active Members: \\n\\n\")\n",
        "    print(readFile.read())\n",
        "    \n",
        "with open(exReg,'r') as readFile:\n",
        "    print(\"Inactive Members: \\n\\n\")\n",
        "    print(readFile.read())"
      ],
      "metadata": {
        "id": "H0EUHMuZJjfv"
      },
      "execution_count": null,
      "outputs": []
    },
    {
      "cell_type": "markdown",
      "source": [
        "Liberia Panda\n",
        "\n",
        "Ejem -> import pandas\n",
        "\n",
        "Cargar un archivo csv\n",
        "\n",
        "Ejem ->\n",
        "import pandas\n",
        "\n",
        "csv_path=\"file.csv\"\n",
        "df=pandas.read_csv(csv_path)\n",
        "\n",
        "Agregar alias al importa la libreria\n",
        "\n",
        "Ejem ->\n",
        "import pandas as pd\n",
        "\n",
        "csv_path=\"file.csv\"\n",
        "df=pd.read_csv(csv_path)\n",
        "\n",
        "Pasar un archivo csv a un Dataframes\n",
        "\n",
        "Ejem ->\n",
        "\n",
        "import pandas\n",
        "\n",
        "csv_path=\"file.csv\"\n",
        "df=pd.read_csv(csv_path)\n",
        "df.head()\n",
        "\n",
        "Ejemplo\n",
        "\n",
        "songs={'ALBUM':['Black in Black', 'Fear in dark'],'AÑO':[2000,1999],'TAMAÑO':['01:00:00','02:00,00']}\n",
        "\n",
        "songs_frame = pd.DataFrame(songs)\n",
        "\n",
        "Para obtener una columna\n",
        "Ejem ->\n",
        "x=df[['TAMAÑO']]\n",
        "\n",
        "Ejemplos par acceder a los valores:\n",
        "\n",
        "i: fila\n",
        "x: columna\n",
        "Nota arrancan en la posición 0\n",
        "\n",
        "df.ix[0,0]:'Black in Black'\n",
        "df.ix[1,0]:'Fear in dark'\n",
        "df.ix[0,'AÑO']\n",
        "z=df.ix[0:2,0:3]\n",
        "z=df.ix[0:2,'ALBUM':'TAMAÑO']\n"
      ],
      "metadata": {
        "id": "fAdKB-xsKSji"
      }
    },
    {
      "cell_type": "code",
      "source": [
        "import pandas as pd\n",
        "\n",
        "df=pd.DataFrame({'a':[11,21,31],'b':[21,22,23]})\n",
        "df.head(3)"
      ],
      "metadata": {
        "id": "5nLJDQ6fT-aH",
        "outputId": "acc801bf-87da-41cb-d8f7-4ea64e3b0d8a",
        "colab": {
          "base_uri": "https://localhost:8080/",
          "height": 143
        }
      },
      "execution_count": 1,
      "outputs": [
        {
          "output_type": "execute_result",
          "data": {
            "text/plain": [
              "    a   b\n",
              "0  11  21\n",
              "1  21  22\n",
              "2  31  23"
            ],
            "text/html": [
              "\n",
              "  <div id=\"df-380b1907-1bd5-47ef-92f4-c9ec462d785d\">\n",
              "    <div class=\"colab-df-container\">\n",
              "      <div>\n",
              "<style scoped>\n",
              "    .dataframe tbody tr th:only-of-type {\n",
              "        vertical-align: middle;\n",
              "    }\n",
              "\n",
              "    .dataframe tbody tr th {\n",
              "        vertical-align: top;\n",
              "    }\n",
              "\n",
              "    .dataframe thead th {\n",
              "        text-align: right;\n",
              "    }\n",
              "</style>\n",
              "<table border=\"1\" class=\"dataframe\">\n",
              "  <thead>\n",
              "    <tr style=\"text-align: right;\">\n",
              "      <th></th>\n",
              "      <th>a</th>\n",
              "      <th>b</th>\n",
              "    </tr>\n",
              "  </thead>\n",
              "  <tbody>\n",
              "    <tr>\n",
              "      <th>0</th>\n",
              "      <td>11</td>\n",
              "      <td>21</td>\n",
              "    </tr>\n",
              "    <tr>\n",
              "      <th>1</th>\n",
              "      <td>21</td>\n",
              "      <td>22</td>\n",
              "    </tr>\n",
              "    <tr>\n",
              "      <th>2</th>\n",
              "      <td>31</td>\n",
              "      <td>23</td>\n",
              "    </tr>\n",
              "  </tbody>\n",
              "</table>\n",
              "</div>\n",
              "      <button class=\"colab-df-convert\" onclick=\"convertToInteractive('df-380b1907-1bd5-47ef-92f4-c9ec462d785d')\"\n",
              "              title=\"Convert this dataframe to an interactive table.\"\n",
              "              style=\"display:none;\">\n",
              "        \n",
              "  <svg xmlns=\"http://www.w3.org/2000/svg\" height=\"24px\"viewBox=\"0 0 24 24\"\n",
              "       width=\"24px\">\n",
              "    <path d=\"M0 0h24v24H0V0z\" fill=\"none\"/>\n",
              "    <path d=\"M18.56 5.44l.94 2.06.94-2.06 2.06-.94-2.06-.94-.94-2.06-.94 2.06-2.06.94zm-11 1L8.5 8.5l.94-2.06 2.06-.94-2.06-.94L8.5 2.5l-.94 2.06-2.06.94zm10 10l.94 2.06.94-2.06 2.06-.94-2.06-.94-.94-2.06-.94 2.06-2.06.94z\"/><path d=\"M17.41 7.96l-1.37-1.37c-.4-.4-.92-.59-1.43-.59-.52 0-1.04.2-1.43.59L10.3 9.45l-7.72 7.72c-.78.78-.78 2.05 0 2.83L4 21.41c.39.39.9.59 1.41.59.51 0 1.02-.2 1.41-.59l7.78-7.78 2.81-2.81c.8-.78.8-2.07 0-2.86zM5.41 20L4 18.59l7.72-7.72 1.47 1.35L5.41 20z\"/>\n",
              "  </svg>\n",
              "      </button>\n",
              "      \n",
              "  <style>\n",
              "    .colab-df-container {\n",
              "      display:flex;\n",
              "      flex-wrap:wrap;\n",
              "      gap: 12px;\n",
              "    }\n",
              "\n",
              "    .colab-df-convert {\n",
              "      background-color: #E8F0FE;\n",
              "      border: none;\n",
              "      border-radius: 50%;\n",
              "      cursor: pointer;\n",
              "      display: none;\n",
              "      fill: #1967D2;\n",
              "      height: 32px;\n",
              "      padding: 0 0 0 0;\n",
              "      width: 32px;\n",
              "    }\n",
              "\n",
              "    .colab-df-convert:hover {\n",
              "      background-color: #E2EBFA;\n",
              "      box-shadow: 0px 1px 2px rgba(60, 64, 67, 0.3), 0px 1px 3px 1px rgba(60, 64, 67, 0.15);\n",
              "      fill: #174EA6;\n",
              "    }\n",
              "\n",
              "    [theme=dark] .colab-df-convert {\n",
              "      background-color: #3B4455;\n",
              "      fill: #D2E3FC;\n",
              "    }\n",
              "\n",
              "    [theme=dark] .colab-df-convert:hover {\n",
              "      background-color: #434B5C;\n",
              "      box-shadow: 0px 1px 3px 1px rgba(0, 0, 0, 0.15);\n",
              "      filter: drop-shadow(0px 1px 2px rgba(0, 0, 0, 0.3));\n",
              "      fill: #FFFFFF;\n",
              "    }\n",
              "  </style>\n",
              "\n",
              "      <script>\n",
              "        const buttonEl =\n",
              "          document.querySelector('#df-380b1907-1bd5-47ef-92f4-c9ec462d785d button.colab-df-convert');\n",
              "        buttonEl.style.display =\n",
              "          google.colab.kernel.accessAllowed ? 'block' : 'none';\n",
              "\n",
              "        async function convertToInteractive(key) {\n",
              "          const element = document.querySelector('#df-380b1907-1bd5-47ef-92f4-c9ec462d785d');\n",
              "          const dataTable =\n",
              "            await google.colab.kernel.invokeFunction('convertToInteractive',\n",
              "                                                     [key], {});\n",
              "          if (!dataTable) return;\n",
              "\n",
              "          const docLinkHtml = 'Like what you see? Visit the ' +\n",
              "            '<a target=\"_blank\" href=https://colab.research.google.com/notebooks/data_table.ipynb>data table notebook</a>'\n",
              "            + ' to learn more about interactive tables.';\n",
              "          element.innerHTML = '';\n",
              "          dataTable['output_type'] = 'display_data';\n",
              "          await google.colab.output.renderOutput(dataTable, element);\n",
              "          const docLink = document.createElement('div');\n",
              "          docLink.innerHTML = docLinkHtml;\n",
              "          element.appendChild(docLink);\n",
              "        }\n",
              "      </script>\n",
              "    </div>\n",
              "  </div>\n",
              "  "
            ]
          },
          "metadata": {},
          "execution_count": 1
        }
      ]
    },
    {
      "cell_type": "code",
      "source": [
        "df['a']"
      ],
      "metadata": {
        "id": "lNlYyvn4KKpm",
        "outputId": "8a6a9f36-b8ba-488a-e5e8-b965a1b336da",
        "colab": {
          "base_uri": "https://localhost:8080/"
        }
      },
      "execution_count": 6,
      "outputs": [
        {
          "output_type": "execute_result",
          "data": {
            "text/plain": [
              "0    11\n",
              "1    21\n",
              "2    31\n",
              "Name: a, dtype: int64"
            ]
          },
          "metadata": {},
          "execution_count": 6
        }
      ]
    }
  ]
}
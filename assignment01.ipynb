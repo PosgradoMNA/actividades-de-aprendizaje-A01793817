{
  "nbformat": 4,
  "nbformat_minor": 0,
  "metadata": {
    "colab": {
      "name": "assignment01.ipynb",
      "provenance": [],
      "include_colab_link": true
    },
    "kernelspec": {
      "name": "python3",
      "display_name": "Python 3"
    },
    "language_info": {
      "name": "python"
    }
  },
  "cells": [
    {
      "cell_type": "markdown",
      "metadata": {
        "id": "view-in-github",
        "colab_type": "text"
      },
      "source": [
        "<a href=\"https://colab.research.google.com/github/PosgradoMNA/actividades-de-aprendizaje-A01793817/blob/main/assignment01.ipynb\" target=\"_parent\"><img src=\"https://colab.research.google.com/assets/colab-badge.svg\" alt=\"Open In Colab\"/></a>"
      ]
    },
    {
      "cell_type": "markdown",
      "source": [
        "Módulo 4\n",
        "\n",
        "Sentencia para abrir un archivo: file1 = open(parametro 1, parametro 2)\n",
        "\n",
        "parámetro 1 =  ruta del archivo\n",
        "parámetro 2 =  es el modo, los valores pueden ser:\n",
        "\n",
        "r -> lectura\n",
        "w -> escritura\n",
        "a -> agregar\n",
        "\n",
        "ejemplo file1 = open(\"\\escritorio\\prueba.cvs\",\"w\")\n",
        "\n",
        "ejemplo#1:\n",
        "with open(\"ejemplo.txt\",\"r\") as file1\n",
        "    file_stuff = file1.read()\n",
        "    print(file_stuff)\n",
        "print(file1.closed)\n",
        "print(file_stuff)\n",
        "\n",
        "\n",
        "ejemplo#2:\n",
        "with open(\"ejemplo.txt\", \"r\") as File2\n",
        "    file_stuff = File2.readlines()\n",
        "    print(file_stuff)\n",
        "\n",
        "ejemplo#3:\n",
        "with open(\"Ejemplo3.txt\",\"r\") as File3\n",
        "    for line in File3\n",
        "    print(line)\n",
        "\n",
        "ejemplo#4 - Leer por cantidad de posiciones:\n",
        "with open(\"ejemplo4.txt\",\"r\") as File4\n",
        "    file_stuff = File4.readlines(4) \n",
        "    print(file_stuff)   #Imprime las primeras cuatros posiciones"
      ],
      "metadata": {
        "id": "PJzIq9PAT1hI"
      }
    },
    {
      "cell_type": "code",
      "source": [],
      "metadata": {
        "id": "mxM_WppZPMFx"
      },
      "execution_count": null,
      "outputs": []
    }
  ]
}
{
  "nbformat": 4,
  "nbformat_minor": 0,
  "metadata": {
    "colab": {
      "name": "assignment01.ipynb",
      "provenance": [],
      "include_colab_link": true
    },
    "kernelspec": {
      "name": "python3",
      "display_name": "Python 3"
    },
    "language_info": {
      "name": "python"
    }
  },
  "cells": [
    {
      "cell_type": "markdown",
      "metadata": {
        "id": "view-in-github",
        "colab_type": "text"
      },
      "source": [
        "<a href=\"https://colab.research.google.com/github/PosgradoMNA/actividades-de-aprendizaje-A01793817/blob/main/M%C3%93DULO%203%20-%20Exploratory%20Data%20Analysis.ipynb\" target=\"_parent\"><img src=\"https://colab.research.google.com/assets/colab-badge.svg\" alt=\"Open In Colab\"/></a>"
      ]
    },
    {
      "cell_type": "markdown",
      "source": [
        "# **MÓDULO 3 - Exploratory Data Analysis**\n",
        "\n",
        "El análisis exploratorio de datos o abrebiado EDA, es un enfoque que analiza datos con el fin de:\n",
        "\n",
        "\n",
        "* Resumir las principales características de los datos\n",
        "* Obtener una mejor comprensión del conjunto de datos\n",
        "* Descubrir relaciones entre diferentes variables\n",
        "* Extraer variables  importantes para el problema que estamos tratando de resolver\n",
        "\n"
      ],
      "metadata": {
        "id": "XF88MMvKjfPi"
      }
    },
    {
      "cell_type": "markdown",
      "source": [
        "# **1. Estadítica Descriptiva**\n",
        "\n",
        "Este ayuda a describir las características básicas de un conjunto de datos y obtiene un breve resumen sobre la muestra y las medidas.\n",
        "\n",
        "\n",
        "Métodos:\n",
        "\n",
        "* describe(): Calcula automáticamente las estadísticas básicas para todas las variables numéricas. Muestra la media, el número total de datos, puntos, la desviación estándar, los cuartiles y los valores extremos. Los valores NaN no son tomdos en cuenta.\n",
        "\n",
        "* value_counts(): S utiliza para contar catégorias de grupos y se aplica a la columna de una fila\n",
        "\n",
        "Con el diagrama de cajas podemos detectar valores atípicos, ver la distribución y asimetría de los datos. También facilitan las comparación entre grupos.\n",
        "\n",
        "Los diagramas de dispersión muestran la relación entre dos variables:\n",
        "\n",
        "* Variable predictora: es la variable que se esta utilizando para predecir un resultado.\n",
        "\n",
        "* Variable objetivo: es la variable que esta tratano de predecir.\n",
        "\n",
        "En un diagrama de dispersión las variables predictoras se ubican en el eje de las x y las variables objetivo en el eje de las y"
      ],
      "metadata": {
        "id": "4cDV71YzTs8P"
      }
    },
    {
      "cell_type": "markdown",
      "source": [
        "# **2. Groupby()**\n",
        "\n",
        "El metodo groupby() se utilizan en variables categóricas, agrupan los datos en subconjuntos según las diferentes categorías de esa variable, agrupar por una sola variable o puedes agrupar por múltiples variables.\n",
        "\n",
        "Pasos para agrupar:\n",
        "\n",
        "* Seleccionar las columnas de dataframe\n",
        "df_test =  df [['drive-wheels','body-style', 'price']]\n",
        "* Agrupamos los datos reducidos según 'drive-wheels' y 'body-style'.\n",
        "df_grp = df_test.groupby(['drive-wheels','body-style'], as_index=False).mean()"
      ],
      "metadata": {
        "id": "hjnCc5qmeSI8"
      }
    },
    {
      "cell_type": "markdown",
      "source": [
        "# **3. Pivot()**\n",
        "\n",
        "Trasponer filas como columnas sentencia:\n",
        "df_pivot = df_grp.pivot(index= 'drive-wheels', columns='body-style')\n",
        "\n",
        "Otra forma de representar la tabla dinámica es usando un diagrama de calor, el Heatmap toma una cuadrícula rectangular de datos y asigna una intensidad de color basada en el valor de los datos en los puntos de la cuadrícula."
      ],
      "metadata": {
        "id": "6gIOHl6witbg"
      }
    },
    {
      "cell_type": "markdown",
      "source": [
        "# **4. ANOVA**\n",
        "\n",
        "Es una prueba estadística que significa \"Análisis de varianza\"\n",
        "Se puede utilizar para encontrar la correlación entre diferentes grupos de un categorico variable.\n",
        "La prueba ANOVA devuelve dos valores: la puntuación de la prueba F y el valor p.\n",
        "\n",
        "La prueba F calcula la relación de variación entre la media de los grupos sobre la variación dentro de cada uno de los  grupos de muestra.\n",
        "\n",
        "El valor de p muestra si el resultado obtenido es estadísticamente significativo.\n",
        "\n",
        "df_anova = df[['make', 'price']] -> extraemos los datos de de marca y precio\n",
        "grouped_anova=df_anova.groupb([['make']]) - > agrupamos por las diferentes marcas\n",
        "\n",
        "La prueba ANOVA se puede realizar en Python usando el método f_oneway como el integrado\n",
        "\n",
        "anova_result_1=stats.f_oneway(grouped_anova.get_group(\"honda\")[\"price\"], grouped_anova.get_group(\"subaro\")[\"price\"])\n"
      ],
      "metadata": {
        "id": "J14G4fBkln4t"
      }
    },
    {
      "cell_type": "markdown",
      "source": [
        "# **5. Correlation**\n",
        "\n",
        "La correación es una metrica para medir en que medida las diferentes variables son interdependientes."
      ],
      "metadata": {
        "id": "eiQicM0-q4Nc"
      }
    },
    {
      "cell_type": "markdown",
      "source": [
        "# **6. Correlation Statistics**\n",
        "\n",
        "Una forma de medir la fuerza de correlación entre variables númericas y continuas es uando el método llamado Pearson. Este dará dos valores:\n",
        "\n",
        "* El coeficiente de correlación\n",
        "* El valor de p\n",
        "\n",
        "Como interpretamos esto:\n",
        "\n",
        "* Para el coeficinte de correlación, un valor cercano a 1 implica una gran correlación positiva.\n",
        "\n",
        "* Mientras que un valor cercano a -1 implica una gran correlación negativa\n",
        "\n",
        "* Un valor cercano a 0 implica que no hay correlación entre variables\n",
        "\n",
        "Para el p valor:\n",
        "\n",
        "* P-value < 0.001, nos da una gran certeza sobre la correlación\n",
        "* P-value < 0.05, moderada\n",
        "* P-value < 0.1, debil\n",
        "* P-value > 0.1, absoluta\n",
        "\n",
        "Ejemplo\n",
        "pearson_coef, p_value = stats.pearsonr(df['horsepower'], df['price'])\n",
        "\n",
        "* Pearson correlation: 0.81\n",
        "* P-value:9.35 e-48\n",
        "\n",
        "Exsite una correlación positiva y esta fuertemenete correlacinado.\n"
      ],
      "metadata": {
        "id": "Ot2p8H2ms-Up"
      }
    },
    {
      "cell_type": "markdown",
      "source": [
        "# **Lab 3 - Review: Exploratory Data Analysis (External resource)**"
      ],
      "metadata": {
        "id": "4GrG040gxQmF"
      }
    },
    {
      "cell_type": "markdown",
      "source": [
        "# **Graded Review Questions Instructions**\n",
        "\n",
        "**Question 1**\n",
        "\n",
        "Consider the dataframe \"df\". What method provides the summary statistics?\n",
        "\n",
        "resp. df.describe()\n",
        "\n",
        "**Question 2**\n",
        "\n",
        "Consider the following dataframe:\n",
        "\n",
        "df_test = df['body-style', 'price']\n",
        "\n",
        "The following operation is applied:\n",
        "\n",
        "df_grp = df_test.groupby(['body-style'], as_index=False).mean()\n",
        "\n",
        "What are resulting values of df_grp[‘price’]?\n",
        "\n",
        "resp. The average price for each body style.\n",
        "\n",
        "**Question 3**\n",
        "\n",
        "Correlation implies causation:\n",
        "\n",
        "resp. False\n",
        "\n",
        "**Question 4**\n",
        "\n",
        "What is the minimum possible value of Pearson's Correlation?\n",
        "\n",
        "resp. -1\n",
        "\n",
        "**Question 5**\n",
        "\n",
        "What is the Pearson correlation between variables X and Y if X=Y:\n",
        "\n",
        "resp. 1"
      ],
      "metadata": {
        "id": "OR4Aj7YLxw2B"
      }
    }
  ]
}